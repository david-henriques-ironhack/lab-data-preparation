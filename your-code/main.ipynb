{
 "cells": [
  {
   "cell_type": "markdown",
   "metadata": {},
   "source": [
    "# Before your start:\n",
    "- Read the README.md file\n",
    "- Comment as much as you can and use the resources in the README.md file\n",
    "- Happy learning!"
   ]
  },
  {
   "cell_type": "code",
   "execution_count": 296,
   "metadata": {},
   "outputs": [],
   "source": [
    "# Import your libraries:\n",
    "\n",
    "%matplotlib inline\n",
    "\n",
    "import matplotlib.pyplot as plt\n",
    "import numpy as np\n",
    "import pandas as pd\n",
    "from sqlalchemy import create_engine\n",
    "from getpass import getpass\n",
    "import mysql.connector"
   ]
  },
  {
   "cell_type": "markdown",
   "metadata": {},
   "source": [
    "\n",
    "# Challenge 0 - Load,Query and Create connection of your Dataset"
   ]
  },
  {
   "cell_type": "markdown",
   "metadata": {},
   "source": [
    "#### A lot of the times you won't have files already saved in an Excel or CSV file for you to prepare your data, implying that a lot of times you'll be extracting data from a Data Warehouse or Data Lake, majority of times through SQL.\n",
    "#### A couple of times you may want to do some queries on your table in mySQL to get a slight view on what you have in hands,\n",
    "#### so let's simulate that!\n",
    "\n",
    "#### First we'll need to create a database and table in mySQL:\n",
    "\n",
    "##### 1º- Open the austin_weather.sql file in MySQL Workbench and run the script into a desired schema.\n",
    "\n",
    "#### 2º- As we are in mySQL Workbench, we can do some queries there, to get an overview on some characteristics of our data:\n",
    " - a) How many days are recorded in the dataset?\n",
    " - b) What is the day with the Highest Temperature in Fahrenheit (column TempHighF)\n",
    " - c) What is the average Humidity across all days? (column HumidityAvgPercent)\n",
    " - d) Top 10 days, where SeaLevelPressureAvgInches is the highest, knowing DewPointAvgF is higher than 28 ?"
   ]
  },
  {
   "cell_type": "code",
   "execution_count": 299,
   "metadata": {},
   "outputs": [
    {
     "name": "stdin",
     "output_type": "stream",
     "text": [
      "Enter MySQL password:  ········\n"
     ]
    }
   ],
   "source": [
    "password = getpass.getpass(\"Enter MySQL password: \")"
   ]
  },
  {
   "cell_type": "code",
   "execution_count": 438,
   "metadata": {},
   "outputs": [],
   "source": [
    "# Establish a connection to mysql\n",
    "connection = mysql.connector.connect(\n",
    "    host=\"127.0.0.1\",  \n",
    "    user=\"root\",       \n",
    "    password=password, \n",
    "    database=\"austin_weather\"  \n",
    ")"
   ]
  },
  {
   "cell_type": "code",
   "execution_count": 440,
   "metadata": {},
   "outputs": [
    {
     "name": "stdout",
     "output_type": "stream",
     "text": [
      "OK\n"
     ]
    }
   ],
   "source": [
    "# Check connection \n",
    "if connection.is_connected():\n",
    "    print(\"OK\")\n",
    "else:\n",
    "    print(\"Failed\")"
   ]
  },
  {
   "cell_type": "code",
   "execution_count": 442,
   "metadata": {},
   "outputs": [
    {
     "name": "stdout",
     "output_type": "stream",
     "text": [
      "   total_days\n",
      "0        1319\n"
     ]
    },
    {
     "name": "stderr",
     "output_type": "stream",
     "text": [
      "/var/folders/0b/0nt_hmld68j1x9vbn6980snc0000gn/T/ipykernel_5283/737266126.py:3: UserWarning: pandas only supports SQLAlchemy connectable (engine/connection) or database string URI or sqlite3 DBAPI2 connection. Other DBAPI2 objects are not tested. Please consider using SQLAlchemy.\n",
      "  total_days = pd.read_sql(query_a, connection)\n"
     ]
    }
   ],
   "source": [
    "# a) How many days are recorded in the dataset?\n",
    "query_a = \"SELECT COUNT(*) AS total_days FROM austin_weather;\"\n",
    "total_days = pd.read_sql(query_a, connection)\n",
    "print(total_days)"
   ]
  },
  {
   "cell_type": "code",
   "execution_count": 444,
   "metadata": {},
   "outputs": [
    {
     "name": "stdout",
     "output_type": "stream",
     "text": [
      "        Date  TempHighF\n",
      "0 2017-07-29        107\n"
     ]
    },
    {
     "name": "stderr",
     "output_type": "stream",
     "text": [
      "/var/folders/0b/0nt_hmld68j1x9vbn6980snc0000gn/T/ipykernel_5283/1611139015.py:8: UserWarning: pandas only supports SQLAlchemy connectable (engine/connection) or database string URI or sqlite3 DBAPI2 connection. Other DBAPI2 objects are not tested. Please consider using SQLAlchemy.\n",
      "  highest_temp_day = pd.read_sql(query_b, connection)\n"
     ]
    }
   ],
   "source": [
    "# b) What is the day with the Highest Temperature in Fahrenheit (column TempHighF)\n",
    "query_b = \"\"\"\n",
    "SELECT Date, TempHighF\n",
    "FROM austin_weather\n",
    "ORDER BY TempHighF DESC\n",
    "LIMIT 1;\n",
    "\"\"\"\n",
    "highest_temp_day = pd.read_sql(query_b, connection)\n",
    "print(highest_temp_day)"
   ]
  },
  {
   "cell_type": "code",
   "execution_count": 446,
   "metadata": {},
   "outputs": [
    {
     "name": "stdout",
     "output_type": "stream",
     "text": [
      "   average_humidity\n",
      "0         66.570887\n"
     ]
    },
    {
     "name": "stderr",
     "output_type": "stream",
     "text": [
      "/var/folders/0b/0nt_hmld68j1x9vbn6980snc0000gn/T/ipykernel_5283/1467387042.py:3: UserWarning: pandas only supports SQLAlchemy connectable (engine/connection) or database string URI or sqlite3 DBAPI2 connection. Other DBAPI2 objects are not tested. Please consider using SQLAlchemy.\n",
      "  average_humidity = pd.read_sql(query_c, connection)\n"
     ]
    }
   ],
   "source": [
    "# c) What is the average Humidity across all days? (column HumidityAvgPercent)\n",
    "query_c = \"SELECT AVG(HumidityAvgPercent) AS average_humidity FROM austin_weather;\"\n",
    "average_humidity = pd.read_sql(query_c, connection)\n",
    "print(average_humidity)"
   ]
  },
  {
   "cell_type": "code",
   "execution_count": 448,
   "metadata": {},
   "outputs": [
    {
     "name": "stdout",
     "output_type": "stream",
     "text": [
      "        Date SeaLevelPressureAvgInches DewPointAvgF\n",
      "0 2016-11-19                     30.54           30\n",
      "1 2016-12-08                     30.49           31\n",
      "2 2014-12-31                     30.48           29\n",
      "3 2017-03-03                     30.48           29\n",
      "4 2016-01-01                     30.48           33\n",
      "5 2015-01-04                     30.48           30\n",
      "6 2014-01-23                     30.47           29\n",
      "7 2014-11-27                     30.45           33\n",
      "8 2015-12-04                     30.45           38\n",
      "9 2015-02-23                     30.45           29\n"
     ]
    },
    {
     "name": "stderr",
     "output_type": "stream",
     "text": [
      "/var/folders/0b/0nt_hmld68j1x9vbn6980snc0000gn/T/ipykernel_5283/1343145796.py:9: UserWarning: pandas only supports SQLAlchemy connectable (engine/connection) or database string URI or sqlite3 DBAPI2 connection. Other DBAPI2 objects are not tested. Please consider using SQLAlchemy.\n",
      "  top_sealevel_days = pd.read_sql(query_d, connection)\n"
     ]
    }
   ],
   "source": [
    "# d) Top 10 days, where SeaLevelPressureAvgInches is the highest, knowing DewPointAvgF is higher than 28 ?\n",
    "query_d = \"\"\"\n",
    "SELECT Date, SeaLevelPressureAvgInches, DewPointAvgF\n",
    "FROM austin_weather\n",
    "WHERE DewPointAvgF > 28\n",
    "ORDER BY SeaLevelPressureAvgInches DESC\n",
    "LIMIT 10;\n",
    "\"\"\"\n",
    "top_sealevel_days = pd.read_sql(query_d, connection)\n",
    "print(top_sealevel_days)"
   ]
  },
  {
   "cell_type": "markdown",
   "metadata": {},
   "source": [
    "#### Now that you explored a couple of elements in your table, let's bring your table into this jupyter notebook, by creating a Python-SQL connection like you did on MySQL Project!\n",
    "#### In case you need a little refresher check this [link](https://www.dataquest.io/blog/sql-insert-tutorial/).\n",
    "##### 1º - Create a connection using sqlalchemy from python to mysql \n",
    "##### 2º- Load the table into a variable called weather_df\n"
   ]
  },
  {
   "cell_type": "code",
   "execution_count": 451,
   "metadata": {},
   "outputs": [],
   "source": [
    "# Your code here\n"
   ]
  },
  {
   "cell_type": "markdown",
   "metadata": {},
   "source": [
    "\n",
    "# Challenge 1 - Describe the Dataset"
   ]
  },
  {
   "cell_type": "markdown",
   "metadata": {},
   "source": [
    "#### Describe the dataset you have loaded: \n",
    "- Look at the variables and their types\n",
    "- Examine the descriptive statistics of the numeric variables \n",
    "- Look at the first five rows of all variables to evaluate the categorical variables as well"
   ]
  },
  {
   "cell_type": "code",
   "execution_count": 455,
   "metadata": {},
   "outputs": [
    {
     "name": "stderr",
     "output_type": "stream",
     "text": [
      "/var/folders/0b/0nt_hmld68j1x9vbn6980snc0000gn/T/ipykernel_5283/2642412113.py:3: UserWarning: pandas only supports SQLAlchemy connectable (engine/connection) or database string URI or sqlite3 DBAPI2 connection. Other DBAPI2 objects are not tested. Please consider using SQLAlchemy.\n",
      "  austin = pd.read_sql(query, connection)\n"
     ]
    }
   ],
   "source": [
    "# Load data into DataFrame\n",
    "query = \"SELECT * FROM austin_weather;\"\n",
    "austin = pd.read_sql(query, connection)"
   ]
  },
  {
   "cell_type": "code",
   "execution_count": 461,
   "metadata": {},
   "outputs": [
    {
     "data": {
      "text/html": [
       "<div>\n",
       "<style scoped>\n",
       "    .dataframe tbody tr th:only-of-type {\n",
       "        vertical-align: middle;\n",
       "    }\n",
       "\n",
       "    .dataframe tbody tr th {\n",
       "        vertical-align: top;\n",
       "    }\n",
       "\n",
       "    .dataframe thead th {\n",
       "        text-align: right;\n",
       "    }\n",
       "</style>\n",
       "<table border=\"1\" class=\"dataframe\">\n",
       "  <thead>\n",
       "    <tr style=\"text-align: right;\">\n",
       "      <th></th>\n",
       "      <th>Date</th>\n",
       "      <th>TempHighF</th>\n",
       "      <th>TempAvgF</th>\n",
       "      <th>TempLowF</th>\n",
       "      <th>DewPointHighF</th>\n",
       "      <th>DewPointAvgF</th>\n",
       "      <th>DewPointLowF</th>\n",
       "      <th>HumidityHighPercent</th>\n",
       "      <th>HumidityAvgPercent</th>\n",
       "      <th>HumidityLowPercent</th>\n",
       "      <th>...</th>\n",
       "      <th>SeaLevelPressureAvgInches</th>\n",
       "      <th>SeaLevelPressureLowInches</th>\n",
       "      <th>VisibilityHighMiles</th>\n",
       "      <th>VisibilityAvgMiles</th>\n",
       "      <th>VisibilityLowMiles</th>\n",
       "      <th>WindHighMPH</th>\n",
       "      <th>WindAvgMPH</th>\n",
       "      <th>WindGustMPH</th>\n",
       "      <th>PrecipitationSumInches</th>\n",
       "      <th>Events</th>\n",
       "    </tr>\n",
       "  </thead>\n",
       "  <tbody>\n",
       "    <tr>\n",
       "      <th>0</th>\n",
       "      <td>2013-12-21</td>\n",
       "      <td>74</td>\n",
       "      <td>60</td>\n",
       "      <td>45</td>\n",
       "      <td>67</td>\n",
       "      <td>49</td>\n",
       "      <td>43</td>\n",
       "      <td>93</td>\n",
       "      <td>75</td>\n",
       "      <td>57</td>\n",
       "      <td>...</td>\n",
       "      <td>29.68</td>\n",
       "      <td>29.59</td>\n",
       "      <td>10</td>\n",
       "      <td>7</td>\n",
       "      <td>2</td>\n",
       "      <td>20</td>\n",
       "      <td>4</td>\n",
       "      <td>31</td>\n",
       "      <td>0.46</td>\n",
       "      <td>Rain , Thunderstorm</td>\n",
       "    </tr>\n",
       "    <tr>\n",
       "      <th>1</th>\n",
       "      <td>2013-12-22</td>\n",
       "      <td>56</td>\n",
       "      <td>48</td>\n",
       "      <td>39</td>\n",
       "      <td>43</td>\n",
       "      <td>36</td>\n",
       "      <td>28</td>\n",
       "      <td>93</td>\n",
       "      <td>68</td>\n",
       "      <td>43</td>\n",
       "      <td>...</td>\n",
       "      <td>30.13</td>\n",
       "      <td>29.87</td>\n",
       "      <td>10</td>\n",
       "      <td>10</td>\n",
       "      <td>5</td>\n",
       "      <td>16</td>\n",
       "      <td>6</td>\n",
       "      <td>25</td>\n",
       "      <td>0</td>\n",
       "      <td></td>\n",
       "    </tr>\n",
       "    <tr>\n",
       "      <th>2</th>\n",
       "      <td>2013-12-23</td>\n",
       "      <td>58</td>\n",
       "      <td>45</td>\n",
       "      <td>32</td>\n",
       "      <td>31</td>\n",
       "      <td>27</td>\n",
       "      <td>23</td>\n",
       "      <td>76</td>\n",
       "      <td>52</td>\n",
       "      <td>27</td>\n",
       "      <td>...</td>\n",
       "      <td>30.49</td>\n",
       "      <td>30.41</td>\n",
       "      <td>10</td>\n",
       "      <td>10</td>\n",
       "      <td>10</td>\n",
       "      <td>8</td>\n",
       "      <td>3</td>\n",
       "      <td>12</td>\n",
       "      <td>0</td>\n",
       "      <td></td>\n",
       "    </tr>\n",
       "    <tr>\n",
       "      <th>3</th>\n",
       "      <td>2013-12-24</td>\n",
       "      <td>61</td>\n",
       "      <td>46</td>\n",
       "      <td>31</td>\n",
       "      <td>36</td>\n",
       "      <td>28</td>\n",
       "      <td>21</td>\n",
       "      <td>89</td>\n",
       "      <td>56</td>\n",
       "      <td>22</td>\n",
       "      <td>...</td>\n",
       "      <td>30.45</td>\n",
       "      <td>30.3</td>\n",
       "      <td>10</td>\n",
       "      <td>10</td>\n",
       "      <td>7</td>\n",
       "      <td>12</td>\n",
       "      <td>4</td>\n",
       "      <td>20</td>\n",
       "      <td>0</td>\n",
       "      <td></td>\n",
       "    </tr>\n",
       "    <tr>\n",
       "      <th>4</th>\n",
       "      <td>2013-12-25</td>\n",
       "      <td>58</td>\n",
       "      <td>50</td>\n",
       "      <td>41</td>\n",
       "      <td>44</td>\n",
       "      <td>40</td>\n",
       "      <td>36</td>\n",
       "      <td>86</td>\n",
       "      <td>71</td>\n",
       "      <td>56</td>\n",
       "      <td>...</td>\n",
       "      <td>30.33</td>\n",
       "      <td>30.27</td>\n",
       "      <td>10</td>\n",
       "      <td>10</td>\n",
       "      <td>7</td>\n",
       "      <td>10</td>\n",
       "      <td>2</td>\n",
       "      <td>16</td>\n",
       "      <td>T</td>\n",
       "      <td></td>\n",
       "    </tr>\n",
       "  </tbody>\n",
       "</table>\n",
       "<p>5 rows × 21 columns</p>\n",
       "</div>"
      ],
      "text/plain": [
       "        Date  TempHighF  TempAvgF  TempLowF DewPointHighF DewPointAvgF  \\\n",
       "0 2013-12-21         74        60        45            67           49   \n",
       "1 2013-12-22         56        48        39            43           36   \n",
       "2 2013-12-23         58        45        32            31           27   \n",
       "3 2013-12-24         61        46        31            36           28   \n",
       "4 2013-12-25         58        50        41            44           40   \n",
       "\n",
       "  DewPointLowF HumidityHighPercent HumidityAvgPercent HumidityLowPercent  ...  \\\n",
       "0           43                  93                 75                 57  ...   \n",
       "1           28                  93                 68                 43  ...   \n",
       "2           23                  76                 52                 27  ...   \n",
       "3           21                  89                 56                 22  ...   \n",
       "4           36                  86                 71                 56  ...   \n",
       "\n",
       "  SeaLevelPressureAvgInches SeaLevelPressureLowInches VisibilityHighMiles  \\\n",
       "0                     29.68                     29.59                  10   \n",
       "1                     30.13                     29.87                  10   \n",
       "2                     30.49                     30.41                  10   \n",
       "3                     30.45                      30.3                  10   \n",
       "4                     30.33                     30.27                  10   \n",
       "\n",
       "  VisibilityAvgMiles VisibilityLowMiles WindHighMPH WindAvgMPH WindGustMPH  \\\n",
       "0                  7                  2          20          4          31   \n",
       "1                 10                  5          16          6          25   \n",
       "2                 10                 10           8          3          12   \n",
       "3                 10                  7          12          4          20   \n",
       "4                 10                  7          10          2          16   \n",
       "\n",
       "  PrecipitationSumInches               Events  \n",
       "0                   0.46  Rain , Thunderstorm  \n",
       "1                      0                       \n",
       "2                      0                       \n",
       "3                      0                       \n",
       "4                      T                       \n",
       "\n",
       "[5 rows x 21 columns]"
      ]
     },
     "execution_count": 461,
     "metadata": {},
     "output_type": "execute_result"
    }
   ],
   "source": [
    "austin.head()"
   ]
  },
  {
   "cell_type": "code",
   "execution_count": 463,
   "metadata": {},
   "outputs": [
    {
     "data": {
      "text/plain": [
       "Date                          datetime64[ns]\n",
       "TempHighF                              int64\n",
       "TempAvgF                               int64\n",
       "TempLowF                               int64\n",
       "DewPointHighF                         object\n",
       "DewPointAvgF                          object\n",
       "DewPointLowF                          object\n",
       "HumidityHighPercent                   object\n",
       "HumidityAvgPercent                    object\n",
       "HumidityLowPercent                    object\n",
       "SeaLevelPressureHighInches            object\n",
       "SeaLevelPressureAvgInches             object\n",
       "SeaLevelPressureLowInches             object\n",
       "VisibilityHighMiles                   object\n",
       "VisibilityAvgMiles                    object\n",
       "VisibilityLowMiles                    object\n",
       "WindHighMPH                           object\n",
       "WindAvgMPH                            object\n",
       "WindGustMPH                           object\n",
       "PrecipitationSumInches                object\n",
       "Events                                object\n",
       "dtype: object"
      ]
     },
     "execution_count": 463,
     "metadata": {},
     "output_type": "execute_result"
    }
   ],
   "source": [
    "austin.dtypes"
   ]
  },
  {
   "cell_type": "code",
   "execution_count": 465,
   "metadata": {},
   "outputs": [
    {
     "data": {
      "text/html": [
       "<div>\n",
       "<style scoped>\n",
       "    .dataframe tbody tr th:only-of-type {\n",
       "        vertical-align: middle;\n",
       "    }\n",
       "\n",
       "    .dataframe tbody tr th {\n",
       "        vertical-align: top;\n",
       "    }\n",
       "\n",
       "    .dataframe thead th {\n",
       "        text-align: right;\n",
       "    }\n",
       "</style>\n",
       "<table border=\"1\" class=\"dataframe\">\n",
       "  <thead>\n",
       "    <tr style=\"text-align: right;\">\n",
       "      <th></th>\n",
       "      <th>Date</th>\n",
       "      <th>TempHighF</th>\n",
       "      <th>TempAvgF</th>\n",
       "      <th>TempLowF</th>\n",
       "    </tr>\n",
       "  </thead>\n",
       "  <tbody>\n",
       "    <tr>\n",
       "      <th>count</th>\n",
       "      <td>1319</td>\n",
       "      <td>1319.000000</td>\n",
       "      <td>1319.000000</td>\n",
       "      <td>1319.000000</td>\n",
       "    </tr>\n",
       "    <tr>\n",
       "      <th>mean</th>\n",
       "      <td>2015-10-11 00:00:00</td>\n",
       "      <td>80.862775</td>\n",
       "      <td>70.642911</td>\n",
       "      <td>59.902957</td>\n",
       "    </tr>\n",
       "    <tr>\n",
       "      <th>min</th>\n",
       "      <td>2013-12-21 00:00:00</td>\n",
       "      <td>32.000000</td>\n",
       "      <td>29.000000</td>\n",
       "      <td>19.000000</td>\n",
       "    </tr>\n",
       "    <tr>\n",
       "      <th>25%</th>\n",
       "      <td>2014-11-15 12:00:00</td>\n",
       "      <td>72.000000</td>\n",
       "      <td>62.000000</td>\n",
       "      <td>49.000000</td>\n",
       "    </tr>\n",
       "    <tr>\n",
       "      <th>50%</th>\n",
       "      <td>2015-10-11 00:00:00</td>\n",
       "      <td>83.000000</td>\n",
       "      <td>73.000000</td>\n",
       "      <td>63.000000</td>\n",
       "    </tr>\n",
       "    <tr>\n",
       "      <th>75%</th>\n",
       "      <td>2016-09-04 12:00:00</td>\n",
       "      <td>92.000000</td>\n",
       "      <td>83.000000</td>\n",
       "      <td>73.000000</td>\n",
       "    </tr>\n",
       "    <tr>\n",
       "      <th>max</th>\n",
       "      <td>2017-07-31 00:00:00</td>\n",
       "      <td>107.000000</td>\n",
       "      <td>93.000000</td>\n",
       "      <td>81.000000</td>\n",
       "    </tr>\n",
       "    <tr>\n",
       "      <th>std</th>\n",
       "      <td>NaN</td>\n",
       "      <td>14.766523</td>\n",
       "      <td>14.045904</td>\n",
       "      <td>14.190648</td>\n",
       "    </tr>\n",
       "  </tbody>\n",
       "</table>\n",
       "</div>"
      ],
      "text/plain": [
       "                      Date    TempHighF     TempAvgF     TempLowF\n",
       "count                 1319  1319.000000  1319.000000  1319.000000\n",
       "mean   2015-10-11 00:00:00    80.862775    70.642911    59.902957\n",
       "min    2013-12-21 00:00:00    32.000000    29.000000    19.000000\n",
       "25%    2014-11-15 12:00:00    72.000000    62.000000    49.000000\n",
       "50%    2015-10-11 00:00:00    83.000000    73.000000    63.000000\n",
       "75%    2016-09-04 12:00:00    92.000000    83.000000    73.000000\n",
       "max    2017-07-31 00:00:00   107.000000    93.000000    81.000000\n",
       "std                    NaN    14.766523    14.045904    14.190648"
      ]
     },
     "execution_count": 465,
     "metadata": {},
     "output_type": "execute_result"
    }
   ],
   "source": [
    "austin.describe()"
   ]
  },
  {
   "cell_type": "code",
   "execution_count": 467,
   "metadata": {},
   "outputs": [
    {
     "data": {
      "text/plain": [
       "(1319, 21)"
      ]
     },
     "execution_count": 467,
     "metadata": {},
     "output_type": "execute_result"
    }
   ],
   "source": [
    "austin.shape"
   ]
  },
  {
   "cell_type": "code",
   "execution_count": 469,
   "metadata": {},
   "outputs": [
    {
     "name": "stdout",
     "output_type": "stream",
     "text": [
      "Unique values in DewPointHighF:\n",
      "['67' '43' '31' '36' '44' '39' '41' '49' '51' '37' '55' '54' '15' '29'\n",
      " '60' '64' '58' '28' '42' '22' '38' '45' '19' '59' '62' '40' '17' '53'\n",
      " '34' '48' '52' '61' '63' '33' '57' '65' '46' '32' '50' '27' '56' '47'\n",
      " '68' '69' '66' '70' '73' '71' '76' '72' '75' '74' '-' '77' '23' '35' '30'\n",
      " '79' '78' '80' '26' '18' '25' '13']\n",
      "\n",
      "\n",
      "Unique values in HumidityHighPercent:\n",
      "['93' '76' '89' '86' '79' '83' '92' '75' '87' '50' '68' '84' '70' '49'\n",
      " '55' '45' '59' '64' '71' '78' '81' '85' '66' '69' '63' '80' '82' '58'\n",
      " '96' '90' '67' '73' '56' '53' '100' '72' '97' '60' '77' '42' '51' '44'\n",
      " '37' '94' '91' '95' '-' '88' '74' '62' '61' '65' '57' '54' '52' '48' '47'\n",
      " '43']\n",
      "\n",
      "\n",
      "Unique values in SeaLevelPressureHighInches:\n",
      "['29.86' '30.41' '30.56' '30.47' '30.46' '30.33' '30.31' '30.44' '30.49'\n",
      " '30.25' '30.48' '30.12' '30.8' '30.66' '30.18' '29.97' '30.16' '30.34'\n",
      " '30.21' '30.37' '30.26' '30.35' '30.43' '30.23' '30.73' '30.76' '30.38'\n",
      " '30' '30.28' '30.51' '30.52' '29.96' '29.91' '30.27' '30.11' '30.5'\n",
      " '30.57' '30.3' '30.08' '30.17' '30.1' '29.93' '30.09' '30.05' '30.06'\n",
      " '30.22' '29.92' '30.02' '30.07' '29.83' '30.03' '30.24' '30.2' '29.95'\n",
      " '30.01' '29.99' '29.9' '29.81' '30.14' '29.89' '30.04' '29.85' '30.15'\n",
      " '29.87' '29.63' '29.7' '30.19' '29.88' '29.84' '30.29' '29.94' '29.98'\n",
      " '30.13' '30.32' '30.58' '30.4' '30.36' '30.45' '30.39' '30.69' '30.79'\n",
      " '30.42' '30.54' '30.64' '29.76' '29.8' '-' '29.79' '29.72' '30.53'\n",
      " '30.55' '29.78' '30.63' '29.65' '30.68' '30.67' '30.59' '30.6' '30.83'\n",
      " '30.78' '29.73' '29.75' '29.69' '29.82' '29.77']\n",
      "\n",
      "\n",
      "Unique values in VisibilityHighMiles:\n",
      "['10' '9' '-' '8' '5']\n",
      "\n",
      "\n",
      "Unique values in WindHighMPH:\n",
      "['20' '16' '8' '12' '10' '7' '17' '13' '21' '14' '15' '9' '18' '24' '22'\n",
      " '25' '28' '23' '-' '29' '6' '26']\n",
      "\n",
      "\n",
      "Unique values in PrecipitationSumInches:\n",
      "['0.46' '0' 'T' '0.16' '0.1' '0.01' '0.06' '0.05' '0.02' '0.15' '0.11'\n",
      " '0.08' '0.17' '0.74' '0.07' '0.2' '0.27' '1.34' '2.45' '0.94' '0.14'\n",
      " '0.19' '1.56' '1.75' '0.55' '1.49' '0.24' '0.49' '0.31' '3.53' '1.52'\n",
      " '0.09' '0.98' '0.22' '0.51' '0.68' '0.35' '3.66' '0.13' '0.21' '0.03'\n",
      " '1.42' '0.3' '0.56' '1.51' '0.04' '0.33' '3.33' '0.59' '0.63' '0.76'\n",
      " '2.07' '0.4' '0.26' '0.45' '2.17' '1.17' '0.43' '0.41' '0.57' '3.84'\n",
      " '0.29' '0.23' '1.12' '0.36' '2.6' '1.41' '5.2' '0.67' '2.66' '1.09'\n",
      " '0.93' '0.75' '1.05' '0.79' '4.79' '0.65' '4.93' '0.89' '0.53' '1.03'\n",
      " '1.46' '0.25' '1.54' '1.32' '1.33' '2.18' '0.34' '1.19' '1.13' '0.58'\n",
      " '0.54' '0.92' '0.77' '2.25' '0.52' '0.18' '1.07' '1.61' '1.06' '2.35'\n",
      " '1.79' '1.22' '1.29' '0.37' '0.61' '1.57' '0.86' '0.66' '0.73' '0.71'\n",
      " '0.12' '0.47' '1.39']\n",
      "\n",
      "\n"
     ]
    }
   ],
   "source": [
    "# Check unique values in problematic columns\n",
    "for col in ['DewPointHighF', 'HumidityHighPercent', 'SeaLevelPressureHighInches', 'VisibilityHighMiles', 'WindHighMPH', 'PrecipitationSumInches']:\n",
    "    print(f\"Unique values in {col}:\")\n",
    "    print(austin[col].unique())\n",
    "    print(\"\\n\")"
   ]
  },
  {
   "cell_type": "code",
   "execution_count": 471,
   "metadata": {},
   "outputs": [
    {
     "name": "stderr",
     "output_type": "stream",
     "text": [
      "/var/folders/0b/0nt_hmld68j1x9vbn6980snc0000gn/T/ipykernel_5283/499623588.py:2: FutureWarning: A value is trying to be set on a copy of a DataFrame or Series through chained assignment using an inplace method.\n",
      "The behavior will change in pandas 3.0. This inplace method will never work because the intermediate object on which we are setting values always behaves as a copy.\n",
      "\n",
      "For example, when doing 'df[col].method(value, inplace=True)', try using 'df.method({col: value}, inplace=True)' or df[col] = df[col].method(value) instead, to perform the operation inplace on the original object.\n",
      "\n",
      "\n",
      "  austin['PrecipitationSumInches'].replace(\"T\", np.nan, inplace=True)\n"
     ]
    }
   ],
   "source": [
    "# Replace \"T\" with 0 in PrecipitationSumInches and \"-\" with 0\n",
    "austin['PrecipitationSumInches'].replace(\"T\", np.nan, inplace=True)\n",
    "austin.replace(\"-\", np.nan, inplace=True)"
   ]
  },
  {
   "cell_type": "code",
   "execution_count": 473,
   "metadata": {},
   "outputs": [],
   "source": [
    "# Convert non-numeric values\n",
    "numeric_columns = [\n",
    "    'DewPointHighF', 'DewPointAvgF', 'DewPointLowF', \n",
    "    'HumidityHighPercent', 'HumidityAvgPercent', 'HumidityLowPercent', \n",
    "    'SeaLevelPressureHighInches', 'SeaLevelPressureAvgInches', 'SeaLevelPressureLowInches',\n",
    "    'VisibilityHighMiles', 'VisibilityAvgMiles', 'VisibilityLowMiles',\n",
    "    'WindHighMPH', 'WindAvgMPH', 'WindGustMPH', 'PrecipitationSumInches'\n",
    "]\n",
    "austin[numeric_columns] = austin[numeric_columns].apply(pd.to_numeric, errors='coerce')"
   ]
  },
  {
   "cell_type": "code",
   "execution_count": 475,
   "metadata": {},
   "outputs": [
    {
     "name": "stderr",
     "output_type": "stream",
     "text": [
      "/var/folders/0b/0nt_hmld68j1x9vbn6980snc0000gn/T/ipykernel_5283/1091676097.py:4: FutureWarning: A value is trying to be set on a copy of a DataFrame or Series through chained assignment using an inplace method.\n",
      "The behavior will change in pandas 3.0. This inplace method will never work because the intermediate object on which we are setting values always behaves as a copy.\n",
      "\n",
      "For example, when doing 'df[col].method(value, inplace=True)', try using 'df.method({col: value}, inplace=True)' or df[col] = df[col].method(value) instead, to perform the operation inplace on the original object.\n",
      "\n",
      "\n",
      "  austin[col].fillna(median_value, inplace=True)\n"
     ]
    }
   ],
   "source": [
    "# Replace nan values with median of each column\n",
    "for col in numeric_columns:\n",
    "    median_value = austin[col].median() \n",
    "    austin[col].fillna(median_value, inplace=True)  "
   ]
  },
  {
   "cell_type": "code",
   "execution_count": 477,
   "metadata": {},
   "outputs": [],
   "source": [
    "austin.dropna(subset=['Date'], inplace=True)"
   ]
  },
  {
   "cell_type": "code",
   "execution_count": 479,
   "metadata": {},
   "outputs": [
    {
     "name": "stdout",
     "output_type": "stream",
     "text": [
      "Data types of each column:\n"
     ]
    },
    {
     "data": {
      "text/plain": [
       "Date                          datetime64[ns]\n",
       "TempHighF                              int64\n",
       "TempAvgF                               int64\n",
       "TempLowF                               int64\n",
       "DewPointHighF                        float64\n",
       "DewPointAvgF                         float64\n",
       "DewPointLowF                         float64\n",
       "HumidityHighPercent                  float64\n",
       "HumidityAvgPercent                   float64\n",
       "HumidityLowPercent                   float64\n",
       "SeaLevelPressureHighInches           float64\n",
       "SeaLevelPressureAvgInches            float64\n",
       "SeaLevelPressureLowInches            float64\n",
       "VisibilityHighMiles                  float64\n",
       "VisibilityAvgMiles                   float64\n",
       "VisibilityLowMiles                   float64\n",
       "WindHighMPH                          float64\n",
       "WindAvgMPH                           float64\n",
       "WindGustMPH                          float64\n",
       "PrecipitationSumInches               float64\n",
       "Events                                object\n",
       "dtype: object"
      ]
     },
     "execution_count": 479,
     "metadata": {},
     "output_type": "execute_result"
    }
   ],
   "source": [
    "print(\"Data types of each column:\")\n",
    "austin.dtypes"
   ]
  },
  {
   "cell_type": "code",
   "execution_count": 481,
   "metadata": {},
   "outputs": [
    {
     "name": "stdout",
     "output_type": "stream",
     "text": [
      "Descriptive statistics of numeric variables:\n"
     ]
    },
    {
     "data": {
      "text/html": [
       "<div>\n",
       "<style scoped>\n",
       "    .dataframe tbody tr th:only-of-type {\n",
       "        vertical-align: middle;\n",
       "    }\n",
       "\n",
       "    .dataframe tbody tr th {\n",
       "        vertical-align: top;\n",
       "    }\n",
       "\n",
       "    .dataframe thead th {\n",
       "        text-align: right;\n",
       "    }\n",
       "</style>\n",
       "<table border=\"1\" class=\"dataframe\">\n",
       "  <thead>\n",
       "    <tr style=\"text-align: right;\">\n",
       "      <th></th>\n",
       "      <th>Date</th>\n",
       "      <th>TempHighF</th>\n",
       "      <th>TempAvgF</th>\n",
       "      <th>TempLowF</th>\n",
       "      <th>DewPointHighF</th>\n",
       "      <th>DewPointAvgF</th>\n",
       "      <th>DewPointLowF</th>\n",
       "      <th>HumidityHighPercent</th>\n",
       "      <th>HumidityAvgPercent</th>\n",
       "      <th>HumidityLowPercent</th>\n",
       "      <th>SeaLevelPressureHighInches</th>\n",
       "      <th>SeaLevelPressureAvgInches</th>\n",
       "      <th>SeaLevelPressureLowInches</th>\n",
       "      <th>VisibilityHighMiles</th>\n",
       "      <th>VisibilityAvgMiles</th>\n",
       "      <th>VisibilityLowMiles</th>\n",
       "      <th>WindHighMPH</th>\n",
       "      <th>WindAvgMPH</th>\n",
       "      <th>WindGustMPH</th>\n",
       "      <th>PrecipitationSumInches</th>\n",
       "    </tr>\n",
       "  </thead>\n",
       "  <tbody>\n",
       "    <tr>\n",
       "      <th>count</th>\n",
       "      <td>1319</td>\n",
       "      <td>1319.000000</td>\n",
       "      <td>1319.000000</td>\n",
       "      <td>1319.000000</td>\n",
       "      <td>1319.000000</td>\n",
       "      <td>1319.000000</td>\n",
       "      <td>1319.000000</td>\n",
       "      <td>1319.000000</td>\n",
       "      <td>1319.000000</td>\n",
       "      <td>1319.000000</td>\n",
       "      <td>1319.00000</td>\n",
       "      <td>1319.000000</td>\n",
       "      <td>1319.000000</td>\n",
       "      <td>1319.000000</td>\n",
       "      <td>1319.000000</td>\n",
       "      <td>1319.000000</td>\n",
       "      <td>1319.000000</td>\n",
       "      <td>1319.000000</td>\n",
       "      <td>1319.000000</td>\n",
       "      <td>1319.000000</td>\n",
       "    </tr>\n",
       "    <tr>\n",
       "      <th>mean</th>\n",
       "      <td>2015-10-11 00:00:00</td>\n",
       "      <td>80.862775</td>\n",
       "      <td>70.642911</td>\n",
       "      <td>59.902957</td>\n",
       "      <td>61.539045</td>\n",
       "      <td>56.655800</td>\n",
       "      <td>50.960576</td>\n",
       "      <td>87.875663</td>\n",
       "      <td>66.672479</td>\n",
       "      <td>44.957544</td>\n",
       "      <td>30.11213</td>\n",
       "      <td>30.022851</td>\n",
       "      <td>29.931842</td>\n",
       "      <td>9.991660</td>\n",
       "      <td>9.169826</td>\n",
       "      <td>6.859742</td>\n",
       "      <td>13.231236</td>\n",
       "      <td>5.008340</td>\n",
       "      <td>21.372252</td>\n",
       "      <td>0.114397</td>\n",
       "    </tr>\n",
       "    <tr>\n",
       "      <th>min</th>\n",
       "      <td>2013-12-21 00:00:00</td>\n",
       "      <td>32.000000</td>\n",
       "      <td>29.000000</td>\n",
       "      <td>19.000000</td>\n",
       "      <td>13.000000</td>\n",
       "      <td>8.000000</td>\n",
       "      <td>2.000000</td>\n",
       "      <td>37.000000</td>\n",
       "      <td>27.000000</td>\n",
       "      <td>10.000000</td>\n",
       "      <td>29.63000</td>\n",
       "      <td>29.550000</td>\n",
       "      <td>29.410000</td>\n",
       "      <td>5.000000</td>\n",
       "      <td>2.000000</td>\n",
       "      <td>0.000000</td>\n",
       "      <td>6.000000</td>\n",
       "      <td>1.000000</td>\n",
       "      <td>9.000000</td>\n",
       "      <td>0.000000</td>\n",
       "    </tr>\n",
       "    <tr>\n",
       "      <th>25%</th>\n",
       "      <td>2014-11-15 12:00:00</td>\n",
       "      <td>72.000000</td>\n",
       "      <td>62.000000</td>\n",
       "      <td>49.000000</td>\n",
       "      <td>53.000000</td>\n",
       "      <td>46.500000</td>\n",
       "      <td>38.000000</td>\n",
       "      <td>85.000000</td>\n",
       "      <td>59.000000</td>\n",
       "      <td>33.000000</td>\n",
       "      <td>29.99000</td>\n",
       "      <td>29.910000</td>\n",
       "      <td>29.820000</td>\n",
       "      <td>10.000000</td>\n",
       "      <td>9.000000</td>\n",
       "      <td>3.000000</td>\n",
       "      <td>10.000000</td>\n",
       "      <td>3.000000</td>\n",
       "      <td>17.000000</td>\n",
       "      <td>0.000000</td>\n",
       "    </tr>\n",
       "    <tr>\n",
       "      <th>50%</th>\n",
       "      <td>2015-10-11 00:00:00</td>\n",
       "      <td>83.000000</td>\n",
       "      <td>73.000000</td>\n",
       "      <td>63.000000</td>\n",
       "      <td>66.000000</td>\n",
       "      <td>61.000000</td>\n",
       "      <td>56.000000</td>\n",
       "      <td>90.000000</td>\n",
       "      <td>67.000000</td>\n",
       "      <td>44.000000</td>\n",
       "      <td>30.08000</td>\n",
       "      <td>30.000000</td>\n",
       "      <td>29.910000</td>\n",
       "      <td>10.000000</td>\n",
       "      <td>10.000000</td>\n",
       "      <td>9.000000</td>\n",
       "      <td>13.000000</td>\n",
       "      <td>5.000000</td>\n",
       "      <td>21.000000</td>\n",
       "      <td>0.000000</td>\n",
       "    </tr>\n",
       "    <tr>\n",
       "      <th>75%</th>\n",
       "      <td>2016-09-04 12:00:00</td>\n",
       "      <td>92.000000</td>\n",
       "      <td>83.000000</td>\n",
       "      <td>73.000000</td>\n",
       "      <td>73.000000</td>\n",
       "      <td>69.000000</td>\n",
       "      <td>65.000000</td>\n",
       "      <td>94.000000</td>\n",
       "      <td>74.000000</td>\n",
       "      <td>55.000000</td>\n",
       "      <td>30.20500</td>\n",
       "      <td>30.100000</td>\n",
       "      <td>30.020000</td>\n",
       "      <td>10.000000</td>\n",
       "      <td>10.000000</td>\n",
       "      <td>10.000000</td>\n",
       "      <td>15.000000</td>\n",
       "      <td>6.000000</td>\n",
       "      <td>25.000000</td>\n",
       "      <td>0.000000</td>\n",
       "    </tr>\n",
       "    <tr>\n",
       "      <th>max</th>\n",
       "      <td>2017-07-31 00:00:00</td>\n",
       "      <td>107.000000</td>\n",
       "      <td>93.000000</td>\n",
       "      <td>81.000000</td>\n",
       "      <td>80.000000</td>\n",
       "      <td>76.000000</td>\n",
       "      <td>75.000000</td>\n",
       "      <td>100.000000</td>\n",
       "      <td>97.000000</td>\n",
       "      <td>93.000000</td>\n",
       "      <td>30.83000</td>\n",
       "      <td>30.740000</td>\n",
       "      <td>30.610000</td>\n",
       "      <td>10.000000</td>\n",
       "      <td>10.000000</td>\n",
       "      <td>10.000000</td>\n",
       "      <td>29.000000</td>\n",
       "      <td>12.000000</td>\n",
       "      <td>57.000000</td>\n",
       "      <td>5.200000</td>\n",
       "    </tr>\n",
       "    <tr>\n",
       "      <th>std</th>\n",
       "      <td>NaN</td>\n",
       "      <td>14.766523</td>\n",
       "      <td>14.045904</td>\n",
       "      <td>14.190648</td>\n",
       "      <td>13.554245</td>\n",
       "      <td>14.830139</td>\n",
       "      <td>16.148635</td>\n",
       "      <td>11.030569</td>\n",
       "      <td>12.454180</td>\n",
       "      <td>16.961789</td>\n",
       "      <td>0.17995</td>\n",
       "      <td>0.171953</td>\n",
       "      <td>0.171951</td>\n",
       "      <td>0.162745</td>\n",
       "      <td>1.454405</td>\n",
       "      <td>3.672381</td>\n",
       "      <td>3.422508</td>\n",
       "      <td>2.084866</td>\n",
       "      <td>5.866770</td>\n",
       "      <td>0.428175</td>\n",
       "    </tr>\n",
       "  </tbody>\n",
       "</table>\n",
       "</div>"
      ],
      "text/plain": [
       "                      Date    TempHighF     TempAvgF     TempLowF  \\\n",
       "count                 1319  1319.000000  1319.000000  1319.000000   \n",
       "mean   2015-10-11 00:00:00    80.862775    70.642911    59.902957   \n",
       "min    2013-12-21 00:00:00    32.000000    29.000000    19.000000   \n",
       "25%    2014-11-15 12:00:00    72.000000    62.000000    49.000000   \n",
       "50%    2015-10-11 00:00:00    83.000000    73.000000    63.000000   \n",
       "75%    2016-09-04 12:00:00    92.000000    83.000000    73.000000   \n",
       "max    2017-07-31 00:00:00   107.000000    93.000000    81.000000   \n",
       "std                    NaN    14.766523    14.045904    14.190648   \n",
       "\n",
       "       DewPointHighF  DewPointAvgF  DewPointLowF  HumidityHighPercent  \\\n",
       "count    1319.000000   1319.000000   1319.000000          1319.000000   \n",
       "mean       61.539045     56.655800     50.960576            87.875663   \n",
       "min        13.000000      8.000000      2.000000            37.000000   \n",
       "25%        53.000000     46.500000     38.000000            85.000000   \n",
       "50%        66.000000     61.000000     56.000000            90.000000   \n",
       "75%        73.000000     69.000000     65.000000            94.000000   \n",
       "max        80.000000     76.000000     75.000000           100.000000   \n",
       "std        13.554245     14.830139     16.148635            11.030569   \n",
       "\n",
       "       HumidityAvgPercent  HumidityLowPercent  SeaLevelPressureHighInches  \\\n",
       "count         1319.000000         1319.000000                  1319.00000   \n",
       "mean            66.672479           44.957544                    30.11213   \n",
       "min             27.000000           10.000000                    29.63000   \n",
       "25%             59.000000           33.000000                    29.99000   \n",
       "50%             67.000000           44.000000                    30.08000   \n",
       "75%             74.000000           55.000000                    30.20500   \n",
       "max             97.000000           93.000000                    30.83000   \n",
       "std             12.454180           16.961789                     0.17995   \n",
       "\n",
       "       SeaLevelPressureAvgInches  SeaLevelPressureLowInches  \\\n",
       "count                1319.000000                1319.000000   \n",
       "mean                   30.022851                  29.931842   \n",
       "min                    29.550000                  29.410000   \n",
       "25%                    29.910000                  29.820000   \n",
       "50%                    30.000000                  29.910000   \n",
       "75%                    30.100000                  30.020000   \n",
       "max                    30.740000                  30.610000   \n",
       "std                     0.171953                   0.171951   \n",
       "\n",
       "       VisibilityHighMiles  VisibilityAvgMiles  VisibilityLowMiles  \\\n",
       "count          1319.000000         1319.000000         1319.000000   \n",
       "mean              9.991660            9.169826            6.859742   \n",
       "min               5.000000            2.000000            0.000000   \n",
       "25%              10.000000            9.000000            3.000000   \n",
       "50%              10.000000           10.000000            9.000000   \n",
       "75%              10.000000           10.000000           10.000000   \n",
       "max              10.000000           10.000000           10.000000   \n",
       "std               0.162745            1.454405            3.672381   \n",
       "\n",
       "       WindHighMPH   WindAvgMPH  WindGustMPH  PrecipitationSumInches  \n",
       "count  1319.000000  1319.000000  1319.000000             1319.000000  \n",
       "mean     13.231236     5.008340    21.372252                0.114397  \n",
       "min       6.000000     1.000000     9.000000                0.000000  \n",
       "25%      10.000000     3.000000    17.000000                0.000000  \n",
       "50%      13.000000     5.000000    21.000000                0.000000  \n",
       "75%      15.000000     6.000000    25.000000                0.000000  \n",
       "max      29.000000    12.000000    57.000000                5.200000  \n",
       "std       3.422508     2.084866     5.866770                0.428175  "
      ]
     },
     "execution_count": 481,
     "metadata": {},
     "output_type": "execute_result"
    }
   ],
   "source": [
    "print(\"Descriptive statistics of numeric variables:\")\n",
    "austin.describe()"
   ]
  },
  {
   "cell_type": "code",
   "execution_count": 483,
   "metadata": {},
   "outputs": [
    {
     "name": "stdout",
     "output_type": "stream",
     "text": [
      "First five rows of the dataset:\n"
     ]
    },
    {
     "data": {
      "text/html": [
       "<div>\n",
       "<style scoped>\n",
       "    .dataframe tbody tr th:only-of-type {\n",
       "        vertical-align: middle;\n",
       "    }\n",
       "\n",
       "    .dataframe tbody tr th {\n",
       "        vertical-align: top;\n",
       "    }\n",
       "\n",
       "    .dataframe thead th {\n",
       "        text-align: right;\n",
       "    }\n",
       "</style>\n",
       "<table border=\"1\" class=\"dataframe\">\n",
       "  <thead>\n",
       "    <tr style=\"text-align: right;\">\n",
       "      <th></th>\n",
       "      <th>Date</th>\n",
       "      <th>TempHighF</th>\n",
       "      <th>TempAvgF</th>\n",
       "      <th>TempLowF</th>\n",
       "      <th>DewPointHighF</th>\n",
       "      <th>DewPointAvgF</th>\n",
       "      <th>DewPointLowF</th>\n",
       "      <th>HumidityHighPercent</th>\n",
       "      <th>HumidityAvgPercent</th>\n",
       "      <th>HumidityLowPercent</th>\n",
       "      <th>...</th>\n",
       "      <th>SeaLevelPressureAvgInches</th>\n",
       "      <th>SeaLevelPressureLowInches</th>\n",
       "      <th>VisibilityHighMiles</th>\n",
       "      <th>VisibilityAvgMiles</th>\n",
       "      <th>VisibilityLowMiles</th>\n",
       "      <th>WindHighMPH</th>\n",
       "      <th>WindAvgMPH</th>\n",
       "      <th>WindGustMPH</th>\n",
       "      <th>PrecipitationSumInches</th>\n",
       "      <th>Events</th>\n",
       "    </tr>\n",
       "  </thead>\n",
       "  <tbody>\n",
       "    <tr>\n",
       "      <th>0</th>\n",
       "      <td>2013-12-21</td>\n",
       "      <td>74</td>\n",
       "      <td>60</td>\n",
       "      <td>45</td>\n",
       "      <td>67.0</td>\n",
       "      <td>49.0</td>\n",
       "      <td>43.0</td>\n",
       "      <td>93.0</td>\n",
       "      <td>75.0</td>\n",
       "      <td>57.0</td>\n",
       "      <td>...</td>\n",
       "      <td>29.68</td>\n",
       "      <td>29.59</td>\n",
       "      <td>10.0</td>\n",
       "      <td>7.0</td>\n",
       "      <td>2.0</td>\n",
       "      <td>20.0</td>\n",
       "      <td>4.0</td>\n",
       "      <td>31.0</td>\n",
       "      <td>0.46</td>\n",
       "      <td>Rain , Thunderstorm</td>\n",
       "    </tr>\n",
       "    <tr>\n",
       "      <th>1</th>\n",
       "      <td>2013-12-22</td>\n",
       "      <td>56</td>\n",
       "      <td>48</td>\n",
       "      <td>39</td>\n",
       "      <td>43.0</td>\n",
       "      <td>36.0</td>\n",
       "      <td>28.0</td>\n",
       "      <td>93.0</td>\n",
       "      <td>68.0</td>\n",
       "      <td>43.0</td>\n",
       "      <td>...</td>\n",
       "      <td>30.13</td>\n",
       "      <td>29.87</td>\n",
       "      <td>10.0</td>\n",
       "      <td>10.0</td>\n",
       "      <td>5.0</td>\n",
       "      <td>16.0</td>\n",
       "      <td>6.0</td>\n",
       "      <td>25.0</td>\n",
       "      <td>0.00</td>\n",
       "      <td></td>\n",
       "    </tr>\n",
       "    <tr>\n",
       "      <th>2</th>\n",
       "      <td>2013-12-23</td>\n",
       "      <td>58</td>\n",
       "      <td>45</td>\n",
       "      <td>32</td>\n",
       "      <td>31.0</td>\n",
       "      <td>27.0</td>\n",
       "      <td>23.0</td>\n",
       "      <td>76.0</td>\n",
       "      <td>52.0</td>\n",
       "      <td>27.0</td>\n",
       "      <td>...</td>\n",
       "      <td>30.49</td>\n",
       "      <td>30.41</td>\n",
       "      <td>10.0</td>\n",
       "      <td>10.0</td>\n",
       "      <td>10.0</td>\n",
       "      <td>8.0</td>\n",
       "      <td>3.0</td>\n",
       "      <td>12.0</td>\n",
       "      <td>0.00</td>\n",
       "      <td></td>\n",
       "    </tr>\n",
       "    <tr>\n",
       "      <th>3</th>\n",
       "      <td>2013-12-24</td>\n",
       "      <td>61</td>\n",
       "      <td>46</td>\n",
       "      <td>31</td>\n",
       "      <td>36.0</td>\n",
       "      <td>28.0</td>\n",
       "      <td>21.0</td>\n",
       "      <td>89.0</td>\n",
       "      <td>56.0</td>\n",
       "      <td>22.0</td>\n",
       "      <td>...</td>\n",
       "      <td>30.45</td>\n",
       "      <td>30.30</td>\n",
       "      <td>10.0</td>\n",
       "      <td>10.0</td>\n",
       "      <td>7.0</td>\n",
       "      <td>12.0</td>\n",
       "      <td>4.0</td>\n",
       "      <td>20.0</td>\n",
       "      <td>0.00</td>\n",
       "      <td></td>\n",
       "    </tr>\n",
       "    <tr>\n",
       "      <th>4</th>\n",
       "      <td>2013-12-25</td>\n",
       "      <td>58</td>\n",
       "      <td>50</td>\n",
       "      <td>41</td>\n",
       "      <td>44.0</td>\n",
       "      <td>40.0</td>\n",
       "      <td>36.0</td>\n",
       "      <td>86.0</td>\n",
       "      <td>71.0</td>\n",
       "      <td>56.0</td>\n",
       "      <td>...</td>\n",
       "      <td>30.33</td>\n",
       "      <td>30.27</td>\n",
       "      <td>10.0</td>\n",
       "      <td>10.0</td>\n",
       "      <td>7.0</td>\n",
       "      <td>10.0</td>\n",
       "      <td>2.0</td>\n",
       "      <td>16.0</td>\n",
       "      <td>0.00</td>\n",
       "      <td></td>\n",
       "    </tr>\n",
       "  </tbody>\n",
       "</table>\n",
       "<p>5 rows × 21 columns</p>\n",
       "</div>"
      ],
      "text/plain": [
       "        Date  TempHighF  TempAvgF  TempLowF  DewPointHighF  DewPointAvgF  \\\n",
       "0 2013-12-21         74        60        45           67.0          49.0   \n",
       "1 2013-12-22         56        48        39           43.0          36.0   \n",
       "2 2013-12-23         58        45        32           31.0          27.0   \n",
       "3 2013-12-24         61        46        31           36.0          28.0   \n",
       "4 2013-12-25         58        50        41           44.0          40.0   \n",
       "\n",
       "   DewPointLowF  HumidityHighPercent  HumidityAvgPercent  HumidityLowPercent  \\\n",
       "0          43.0                 93.0                75.0                57.0   \n",
       "1          28.0                 93.0                68.0                43.0   \n",
       "2          23.0                 76.0                52.0                27.0   \n",
       "3          21.0                 89.0                56.0                22.0   \n",
       "4          36.0                 86.0                71.0                56.0   \n",
       "\n",
       "   ...  SeaLevelPressureAvgInches  SeaLevelPressureLowInches  \\\n",
       "0  ...                      29.68                      29.59   \n",
       "1  ...                      30.13                      29.87   \n",
       "2  ...                      30.49                      30.41   \n",
       "3  ...                      30.45                      30.30   \n",
       "4  ...                      30.33                      30.27   \n",
       "\n",
       "   VisibilityHighMiles  VisibilityAvgMiles  VisibilityLowMiles  WindHighMPH  \\\n",
       "0                 10.0                 7.0                 2.0         20.0   \n",
       "1                 10.0                10.0                 5.0         16.0   \n",
       "2                 10.0                10.0                10.0          8.0   \n",
       "3                 10.0                10.0                 7.0         12.0   \n",
       "4                 10.0                10.0                 7.0         10.0   \n",
       "\n",
       "   WindAvgMPH  WindGustMPH  PrecipitationSumInches               Events  \n",
       "0         4.0         31.0                    0.46  Rain , Thunderstorm  \n",
       "1         6.0         25.0                    0.00                       \n",
       "2         3.0         12.0                    0.00                       \n",
       "3         4.0         20.0                    0.00                       \n",
       "4         2.0         16.0                    0.00                       \n",
       "\n",
       "[5 rows x 21 columns]"
      ]
     },
     "execution_count": 483,
     "metadata": {},
     "output_type": "execute_result"
    }
   ],
   "source": [
    "print(\"First five rows of the dataset:\")\n",
    "austin.head()"
   ]
  },
  {
   "cell_type": "code",
   "execution_count": 485,
   "metadata": {},
   "outputs": [
    {
     "name": "stdout",
     "output_type": "stream",
     "text": [
      "Categorical variables:\n",
      "Index(['Events'], dtype='object')\n",
      "\n",
      "Sample data for categorical variables:\n",
      "                Events\n",
      "0  Rain , Thunderstorm\n",
      "1                     \n",
      "2                     \n",
      "3                     \n",
      "4                     \n"
     ]
    }
   ],
   "source": [
    "categorical_columns = austin.select_dtypes(include=['object']).columns\n",
    "print(\"Categorical variables:\")\n",
    "print(categorical_columns)\n",
    "\n",
    "# Display a sample of the categorical columns\n",
    "print(\"\\nSample data for categorical variables:\")\n",
    "print(austin[categorical_columns].head())"
   ]
  },
  {
   "cell_type": "markdown",
   "metadata": {},
   "source": [
    "#### Given the information you have learned from examining the dataset, write down three insights about the data in a markdown cell below"
   ]
  },
  {
   "cell_type": "markdown",
   "metadata": {},
   "source": [
    "#### Your Insights:\n",
    "\n",
    "1. There are 21 variables in the dataset. 3 of them are numeric and the rest contain some text.\n",
    "\n",
    "2. The average temperature in Austin ranged between around 70 degrees F and around 93 degrees F. The highest temperature observed during this period was 107 degrees F and the lowest was 19 degrees F.\n",
    "\n",
    "3. When we look at the head function, we see that a lot of variables contain numeric data even though these columns are of object type. This means we might have to do some data cleansing.\n"
   ]
  },
  {
   "cell_type": "markdown",
   "metadata": {},
   "source": [
    "1. The dataset shows significant temperature variation, with high temperatures ranging from 32°F to 107°F, while low temperatures range from 19°F to 81°F. The mean high temperature is around 80.9°F, while the average temperature (mean of TempAvgF) is approximately 70.6°F. This wide range indicates seasonal temperature fluctuations typical of a place with both hot summers and cooler winters, reflecting Austin’s climate. The standard deviations for TempHighF, TempAvgF, and TempLowF (around 14°F) further confirm substantial daily and seasonal variability.\n",
    "2. HumidityHighPercent reaches 100%, with a median around 90% and an average of approximately 87.9%, indicating frequent high humidity. The variability, as seen in the standard deviation, is lower than temperature fluctuations, suggesting that high humidity is more consistent across the dataset. Dew point values range from 2°F to 80°F, with an average of around 56.7°F, supporting the observation of generally high humidity. High dew points combined with high temperatures suggest periods of warm, humid conditions, typical of Austin’s summer climate.\n",
    "3. PrecipitationSumInches has a mean of 0.114 inches, but the minimum is 0, with the 25th, 50th, and 75th percentiles also at 0, indicating that most days have no precipitation, while occasional days bring significant rainfall (up to 5.2 inches). The WindHighMPH variable shows a maximum gust speed of 57 MPH, with the mean being around 13.2 MPH. This highlights occasional windy days, but average conditions are calm, with WindAvgMPH at 5 MPH. These precipitation and wind patterns reflect the occasional occurrence of severe weather, such as thunderstorms, which aligns with the \"Events\" column listing rain and thunderstorms on some days."
   ]
  },
  {
   "cell_type": "markdown",
   "metadata": {},
   "source": [
    "#### Let's examine the DewPointAvgF variable by using the `unique()` function to list all unique values in this dataframe.\n",
    "\n",
    "Describe what you find in a markdown cell below the code. What did you notice? What do you think made Pandas to treat this column as *object* instead of *int64*? "
   ]
  },
  {
   "cell_type": "code",
   "execution_count": 491,
   "metadata": {},
   "outputs": [
    {
     "name": "stdout",
     "output_type": "stream",
     "text": [
      "Unique values in DewPointAvgF:\n"
     ]
    },
    {
     "data": {
      "text/plain": [
       "array([49., 36., 27., 28., 40., 39., 41., 26., 42., 22., 48., 32.,  8.,\n",
       "       11., 45., 55., 61., 37., 47., 25., 23., 20., 33., 30., 29., 17.,\n",
       "       14., 13., 54., 59., 15., 24., 34., 35., 57., 50., 53., 60., 46.,\n",
       "       56., 51., 31., 38., 62., 43., 63., 64., 67., 66., 58., 70., 68.,\n",
       "       65., 69., 71., 72., 73., 74., 21., 44., 52., 12., 75., 76., 18.])"
      ]
     },
     "execution_count": 491,
     "metadata": {},
     "output_type": "execute_result"
    }
   ],
   "source": [
    "# Display unique values in the DewPointAvgF column\n",
    "unique_dewpoint = austin['DewPointAvgF'].unique()\n",
    "print(\"Unique values in DewPointAvgF:\")\n",
    "unique_dewpoint\n"
   ]
  },
  {
   "cell_type": "markdown",
   "metadata": {},
   "source": [
    "- All numeric values\n",
    "- Float data type\n",
    "- Consistency values: ranges from 8.0°F to 76.0°F, which seems reasonable for average dew points. No extreme outliers or negative values are present"
   ]
  },
  {
   "cell_type": "markdown",
   "metadata": {},
   "source": [
    "The following is a list of columns misrepresented as `object`. Use this list to convert the columns to numeric using the `pandas.to_numeric` function in the next cell. If you encounter errors in converting strings to numeric values, you need to catch those errors and force the conversion by supplying `errors='coerce'` as an argument for `pandas.to_numeric`. Coercing will replace non-convertable elements with `NaN` which represents an undefined numeric value. This makes it possible for us to conveniently handle missing values in subsequent data processing.\n",
    "\n",
    "*Hint: you may use a loop to change one column at a time but it is more efficient to use `apply`.*"
   ]
  },
  {
   "cell_type": "code",
   "execution_count": 495,
   "metadata": {},
   "outputs": [],
   "source": [
    "wrong_type_columns = ['DewPointHighF', 'DewPointAvgF', 'DewPointLowF', 'HumidityHighPercent', \n",
    "                      'HumidityAvgPercent', 'HumidityLowPercent', 'SeaLevelPressureHighInches', \n",
    "                      'SeaLevelPressureAvgInches' ,'SeaLevelPressureLowInches', 'VisibilityHighMiles',\n",
    "                      'VisibilityAvgMiles', 'VisibilityLowMiles', 'WindHighMPH', 'WindAvgMPH', \n",
    "                      'WindGustMPH', 'PrecipitationSumInches']"
   ]
  },
  {
   "cell_type": "code",
   "execution_count": 497,
   "metadata": {},
   "outputs": [
    {
     "name": "stdout",
     "output_type": "stream",
     "text": [
      "Data Types after Conversion:\n"
     ]
    },
    {
     "data": {
      "text/plain": [
       "DewPointHighF                 float64\n",
       "DewPointAvgF                  float64\n",
       "DewPointLowF                  float64\n",
       "HumidityHighPercent           float64\n",
       "HumidityAvgPercent            float64\n",
       "HumidityLowPercent            float64\n",
       "SeaLevelPressureHighInches    float64\n",
       "SeaLevelPressureAvgInches     float64\n",
       "SeaLevelPressureLowInches     float64\n",
       "VisibilityHighMiles           float64\n",
       "VisibilityAvgMiles            float64\n",
       "VisibilityLowMiles            float64\n",
       "WindHighMPH                   float64\n",
       "WindAvgMPH                    float64\n",
       "WindGustMPH                   float64\n",
       "PrecipitationSumInches        float64\n",
       "dtype: object"
      ]
     },
     "execution_count": 497,
     "metadata": {},
     "output_type": "execute_result"
    }
   ],
   "source": [
    "# Convert each column \n",
    "austin[wrong_type_columns] = austin[wrong_type_columns].apply(pd.to_numeric, errors='coerce')\n",
    "\n",
    "# Verify the conversion by checking data types\n",
    "print(\"Data Types after Conversion:\")\n",
    "austin[wrong_type_columns].dtypes"
   ]
  },
  {
   "cell_type": "markdown",
   "metadata": {},
   "source": [
    "#### Check if your code has worked by printing the data types again. You should see only two `object` columns (`Date` and `Events`) now. All other columns should be `int64` or `float64`."
   ]
  },
  {
   "cell_type": "code",
   "execution_count": 500,
   "metadata": {},
   "outputs": [
    {
     "name": "stdout",
     "output_type": "stream",
     "text": [
      "\n",
      "Columns with object data type: Index(['Events'], dtype='object')\n"
     ]
    }
   ],
   "source": [
    "object_columns = austin.select_dtypes(include='object').columns\n",
    "print(\"\\nColumns with object data type:\", object_columns)"
   ]
  },
  {
   "cell_type": "markdown",
   "metadata": {},
   "source": [
    "# Challenge 2 - Handle the Missing Data"
   ]
  },
  {
   "cell_type": "markdown",
   "metadata": {},
   "source": [
    "#### Now that we have fixed the type mismatch, let's address the missing data.\n",
    "\n",
    "By coercing the columns to numeric, we have created `NaN` for each cell containing characters. We should choose a strategy to address these missing data.\n",
    "\n",
    "The first step is to examine how many rows contain missing data.\n",
    "\n",
    "We check how much missing data we have by applying the `.isnull()` function to our dataset. To find the rows with missing data in any of its cells, we apply `.any(axis=1)` to the function. `austin.isnull().any(axis=1)` will return a column containing true if the row contains at least one missing value and false otherwise. Therefore we must subset our dataframe with this column. This will give us all rows with at least one missing value. \n",
    "\n",
    "#### In the next cell, identify all rows containing at least one missing value. Assign the dataframes with missing values to a variable called `missing_values`."
   ]
  },
  {
   "cell_type": "code",
   "execution_count": 504,
   "metadata": {},
   "outputs": [
    {
     "name": "stdout",
     "output_type": "stream",
     "text": [
      "Empty DataFrame\n",
      "Columns: [Date, TempHighF, TempAvgF, TempLowF, DewPointHighF, DewPointAvgF, DewPointLowF, HumidityHighPercent, HumidityAvgPercent, HumidityLowPercent, SeaLevelPressureHighInches, SeaLevelPressureAvgInches, SeaLevelPressureLowInches, VisibilityHighMiles, VisibilityAvgMiles, VisibilityLowMiles, WindHighMPH, WindAvgMPH, WindGustMPH, PrecipitationSumInches, Events]\n",
      "Index: []\n",
      "\n",
      "[0 rows x 21 columns]\n"
     ]
    }
   ],
   "source": [
    "missing_values = austin[df.isnull().any(axis=1)]\n",
    "print(missing_values)"
   ]
  },
  {
   "cell_type": "markdown",
   "metadata": {},
   "source": [
    "There are multiple strategies to handle missing data. Below lists the most common ones data scientists use:\n",
    "\n",
    "* Removing all rows or all columns containing missing data. This is the simplest strategy. It may work in some cases but not others.\n",
    "\n",
    "* Filling all missing values with a placeholder value. \n",
    "    * For categorical data, `0`, `-1`, and `9999` are some commonly used placeholder values. \n",
    "    * For continuous data, some may opt to fill all missing data with the mean. This strategy is not optimal since it can increase the fit of the model.\n",
    "\n",
    "* Filling the values using some algorithm. \n",
    "\n",
    "#### In our case, we will use a hybrid approach which is to first remove the data that contain most missing values then fill in the rest of the missing values with the *linear interpolation* algorithm."
   ]
  },
  {
   "cell_type": "markdown",
   "metadata": {},
   "source": [
    "#### Next, count the number of rows of `austin` and `missing_values`."
   ]
  },
  {
   "cell_type": "code",
   "execution_count": 508,
   "metadata": {},
   "outputs": [
    {
     "name": "stdout",
     "output_type": "stream",
     "text": [
      "Total number of rows in the original dataset (austin): 1319\n"
     ]
    }
   ],
   "source": [
    "# Count the number of rows in the original df\n",
    "total_rows = austin.shape[0]\n",
    "print(\"Total number of rows in the original dataset (austin):\", total_rows)"
   ]
  },
  {
   "cell_type": "code",
   "execution_count": 510,
   "metadata": {},
   "outputs": [
    {
     "name": "stdout",
     "output_type": "stream",
     "text": [
      "Total number of rows with missing values: 0\n"
     ]
    }
   ],
   "source": [
    "# Count the number of rows with missing values\n",
    "missing_rows = missing_values.shape[0]\n",
    "print(\"Total number of rows with missing values:\", missing_rows)"
   ]
  },
  {
   "cell_type": "markdown",
   "metadata": {},
   "source": [
    "#### Calculate the ratio of missing rows to total rows"
   ]
  },
  {
   "cell_type": "code",
   "execution_count": 513,
   "metadata": {},
   "outputs": [
    {
     "name": "stdout",
     "output_type": "stream",
     "text": [
      "Ratio of missing rows to total rows: 0.0\n"
     ]
    }
   ],
   "source": [
    "missing_ratio = missing_rows / total_rows\n",
    "print(\"Ratio of missing rows to total rows:\", missing_ratio)"
   ]
  },
  {
   "cell_type": "markdown",
   "metadata": {},
   "source": [
    "As you can see, there is a large proportion of missing data (over 10%). Perhaps we should evaluate which columns have the most missing data and remove those columns. For the remaining columns, we will perform a linear approximation of the missing data.\n",
    "\n",
    "We can find the number of missing rows in each column using the `.isna()` function. We then chain the `.sum` function to the `.isna()` function and find the number of missing rows per column"
   ]
  },
  {
   "cell_type": "code",
   "execution_count": 516,
   "metadata": {},
   "outputs": [
    {
     "name": "stdout",
     "output_type": "stream",
     "text": [
      "Number of missing values per column:\n",
      "Date                          0\n",
      "TempHighF                     0\n",
      "TempAvgF                      0\n",
      "TempLowF                      0\n",
      "DewPointHighF                 0\n",
      "DewPointAvgF                  0\n",
      "DewPointLowF                  0\n",
      "HumidityHighPercent           0\n",
      "HumidityAvgPercent            0\n",
      "HumidityLowPercent            0\n",
      "SeaLevelPressureHighInches    0\n",
      "SeaLevelPressureAvgInches     0\n",
      "SeaLevelPressureLowInches     0\n",
      "VisibilityHighMiles           0\n",
      "VisibilityAvgMiles            0\n",
      "VisibilityLowMiles            0\n",
      "WindHighMPH                   0\n",
      "WindAvgMPH                    0\n",
      "WindGustMPH                   0\n",
      "PrecipitationSumInches        0\n",
      "Events                        0\n",
      "dtype: int64\n"
     ]
    }
   ],
   "source": [
    "# Find the number of missing rows per column\n",
    "missing_per_column = austin.isna().sum()\n",
    "\n",
    "# Display the number of missing values in each column\n",
    "print(\"Number of missing values per column:\")\n",
    "print(missing_per_column)"
   ]
  },
  {
   "cell_type": "markdown",
   "metadata": {},
   "source": [
    "#### As you can see from the output, the majority of missing data is in one column called `PrecipitationSumInches`. What's the number of missing values in this column in ratio to its total number of rows?"
   ]
  },
  {
   "cell_type": "code",
   "execution_count": 519,
   "metadata": {},
   "outputs": [
    {
     "name": "stdout",
     "output_type": "stream",
     "text": [
      "Ratio of missing values in PrecipitationSumInches to total rows: 0.0\n"
     ]
    }
   ],
   "source": [
    "# Calculate the number of missing values in the PrecipitationSumInches column\n",
    "missing_precipitation = austin['PrecipitationSumInches'].isna().sum()\n",
    "\n",
    "# Calculate the ratio of missing values in PrecipitationSumInches to total rows\n",
    "missing_precipitation_ratio = missing_precipitation / total_rows\n",
    "print(\"Ratio of missing values in PrecipitationSumInches to total rows:\", missing_precipitation_ratio)"
   ]
  },
  {
   "cell_type": "markdown",
   "metadata": {},
   "source": [
    "Almost 10% data missing! Therefore, we prefer to remove this column instead of filling its missing values. \n",
    "\n",
    "#### Remove this column from `austin` using the `.drop()` function. Use the `inplace=True` argument.\n",
    "\n",
    "*Hints:*\n",
    "\n",
    "* By supplying `inplace=True` to `drop()`, the original dataframe object will be changed in place and the function will return `None`. In contrast, if you don't supply `inplace=True`, which is equivalent to supplying `inplace=False` because `False` is the default value, the original dataframe object will be kept and the function returns a copy of the transformed dataframe object. In the latter case, you'll have to assign the returned object back to your variable.\n",
    "\n",
    "* Also, since you are dropping a column instead of a row, you'll need to supply `axis=1` to `drop()`.\n",
    "\n",
    "[Reference for `pandas.DataFrame.drop`](https://pandas.pydata.org/pandas-docs/stable/generated/pandas.DataFrame.drop.html)"
   ]
  },
  {
   "cell_type": "code",
   "execution_count": 522,
   "metadata": {},
   "outputs": [
    {
     "name": "stdout",
     "output_type": "stream",
     "text": [
      "Columns after dropping PrecipitationSumInches:\n"
     ]
    },
    {
     "data": {
      "text/plain": [
       "Index(['Date', 'TempHighF', 'TempAvgF', 'TempLowF', 'DewPointHighF',\n",
       "       'DewPointAvgF', 'DewPointLowF', 'HumidityHighPercent',\n",
       "       'HumidityAvgPercent', 'HumidityLowPercent',\n",
       "       'SeaLevelPressureHighInches', 'SeaLevelPressureAvgInches',\n",
       "       'SeaLevelPressureLowInches', 'VisibilityHighMiles',\n",
       "       'VisibilityAvgMiles', 'VisibilityLowMiles', 'WindHighMPH', 'WindAvgMPH',\n",
       "       'WindGustMPH', 'Events'],\n",
       "      dtype='object')"
      ]
     },
     "execution_count": 522,
     "metadata": {},
     "output_type": "execute_result"
    }
   ],
   "source": [
    "# Drop the PrecipitationSumInches column from the dataset\n",
    "austin.drop('PrecipitationSumInches', axis=1, inplace=True)\n",
    "\n",
    "# Verify that the column has been removed\n",
    "print(\"Columns after dropping PrecipitationSumInches:\")\n",
    "austin.columns"
   ]
  },
  {
   "cell_type": "markdown",
   "metadata": {},
   "source": [
    "#### Next we will perform linear interpolation of the missing data.\n",
    "\n",
    "This means that we will use a linear algorithm to estimate the missing data. Linear interpolation assumes that there is a straight line between the points and the missing point will fall on that line. This is a good enough approximation for weather related data. Weather related data is typically a time series. Therefore, we do not want to drop rows from our data if possible. It is prefereable to estimate the missing values rather than remove the rows. However, if you have data from a single point in time, perhaps a better solution would be to remove the rows. \n",
    "\n",
    "If you would like to read more about linear interpolation, you can do so [here](https://en.wikipedia.org/wiki/Linear_interpolation).\n",
    "\n",
    "In the following cell, use the `.interpolate()` function on the entire dataframe. This time pass the `inplace=False` argument to the function and assign the interpolated dataframe to a new variable called `austin_fixed` so that we can compare with `austin`."
   ]
  },
  {
   "cell_type": "code",
   "execution_count": 525,
   "metadata": {},
   "outputs": [
    {
     "name": "stdout",
     "output_type": "stream",
     "text": [
      "Original DataFrame with Missing Data:\n",
      "        Date  TempHighF  TempAvgF  TempLowF  DewPointHighF  DewPointAvgF  \\\n",
      "0 2013-12-21         74        60        45           67.0          49.0   \n",
      "1 2013-12-22         56        48        39           43.0          36.0   \n",
      "2 2013-12-23         58        45        32           31.0          27.0   \n",
      "3 2013-12-24         61        46        31           36.0          28.0   \n",
      "4 2013-12-25         58        50        41           44.0          40.0   \n",
      "\n",
      "   DewPointLowF  HumidityHighPercent  HumidityAvgPercent  HumidityLowPercent  \\\n",
      "0          43.0                 93.0                75.0                57.0   \n",
      "1          28.0                 93.0                68.0                43.0   \n",
      "2          23.0                 76.0                52.0                27.0   \n",
      "3          21.0                 89.0                56.0                22.0   \n",
      "4          36.0                 86.0                71.0                56.0   \n",
      "\n",
      "   SeaLevelPressureHighInches  SeaLevelPressureAvgInches  \\\n",
      "0                       29.86                      29.68   \n",
      "1                       30.41                      30.13   \n",
      "2                       30.56                      30.49   \n",
      "3                       30.56                      30.45   \n",
      "4                       30.41                      30.33   \n",
      "\n",
      "   SeaLevelPressureLowInches  VisibilityHighMiles  VisibilityAvgMiles  \\\n",
      "0                      29.59                 10.0                 7.0   \n",
      "1                      29.87                 10.0                10.0   \n",
      "2                      30.41                 10.0                10.0   \n",
      "3                      30.30                 10.0                10.0   \n",
      "4                      30.27                 10.0                10.0   \n",
      "\n",
      "   VisibilityLowMiles  WindHighMPH  WindAvgMPH  WindGustMPH  \\\n",
      "0                 2.0         20.0         4.0         31.0   \n",
      "1                 5.0         16.0         6.0         25.0   \n",
      "2                10.0          8.0         3.0         12.0   \n",
      "3                 7.0         12.0         4.0         20.0   \n",
      "4                 7.0         10.0         2.0         16.0   \n",
      "\n",
      "                Events  \n",
      "0  Rain , Thunderstorm  \n",
      "1                       \n",
      "2                       \n",
      "3                       \n",
      "4                       \n",
      "\n",
      "Interpolated DataFrame:\n",
      "        Date  TempHighF  TempAvgF  TempLowF  DewPointHighF  DewPointAvgF  \\\n",
      "0 2013-12-21         74        60        45           67.0          49.0   \n",
      "1 2013-12-22         56        48        39           43.0          36.0   \n",
      "2 2013-12-23         58        45        32           31.0          27.0   \n",
      "3 2013-12-24         61        46        31           36.0          28.0   \n",
      "4 2013-12-25         58        50        41           44.0          40.0   \n",
      "\n",
      "   DewPointLowF  HumidityHighPercent  HumidityAvgPercent  HumidityLowPercent  \\\n",
      "0          43.0                 93.0                75.0                57.0   \n",
      "1          28.0                 93.0                68.0                43.0   \n",
      "2          23.0                 76.0                52.0                27.0   \n",
      "3          21.0                 89.0                56.0                22.0   \n",
      "4          36.0                 86.0                71.0                56.0   \n",
      "\n",
      "   SeaLevelPressureHighInches  SeaLevelPressureAvgInches  \\\n",
      "0                       29.86                      29.68   \n",
      "1                       30.41                      30.13   \n",
      "2                       30.56                      30.49   \n",
      "3                       30.56                      30.45   \n",
      "4                       30.41                      30.33   \n",
      "\n",
      "   SeaLevelPressureLowInches  VisibilityHighMiles  VisibilityAvgMiles  \\\n",
      "0                      29.59                 10.0                 7.0   \n",
      "1                      29.87                 10.0                10.0   \n",
      "2                      30.41                 10.0                10.0   \n",
      "3                      30.30                 10.0                10.0   \n",
      "4                      30.27                 10.0                10.0   \n",
      "\n",
      "   VisibilityLowMiles  WindHighMPH  WindAvgMPH  WindGustMPH  \\\n",
      "0                 2.0         20.0         4.0         31.0   \n",
      "1                 5.0         16.0         6.0         25.0   \n",
      "2                10.0          8.0         3.0         12.0   \n",
      "3                 7.0         12.0         4.0         20.0   \n",
      "4                 7.0         10.0         2.0         16.0   \n",
      "\n",
      "                Events  \n",
      "0  Rain , Thunderstorm  \n",
      "1                       \n",
      "2                       \n",
      "3                       \n",
      "4                       \n"
     ]
    },
    {
     "name": "stderr",
     "output_type": "stream",
     "text": [
      "/var/folders/0b/0nt_hmld68j1x9vbn6980snc0000gn/T/ipykernel_5283/419731288.py:3: FutureWarning: DataFrame.interpolate with object dtype is deprecated and will raise in a future version. Call obj.infer_objects(copy=False) before interpolating instead.\n",
      "  austin_fixed = austin.interpolate(inplace=False)\n"
     ]
    }
   ],
   "source": [
    "# Your code here\n",
    "# Perform linear interpolation on the dataframe\n",
    "austin_fixed = austin.interpolate(inplace=False)\n",
    "\n",
    "# Display both dataframes for comparison\n",
    "print(\"Original DataFrame with Missing Data:\")\n",
    "print(austin.head())  \n",
    "\n",
    "print(\"\\nInterpolated DataFrame:\")\n",
    "print(austin_fixed.head()) "
   ]
  },
  {
   "cell_type": "markdown",
   "metadata": {},
   "source": [
    "#### Check to make sure `austin_fixed` contains no missing data. Also check `austin` - it still contains missing data."
   ]
  },
  {
   "cell_type": "code",
   "execution_count": 528,
   "metadata": {},
   "outputs": [
    {
     "data": {
      "text/plain": [
       "Date                          0\n",
       "TempHighF                     0\n",
       "TempAvgF                      0\n",
       "TempLowF                      0\n",
       "DewPointHighF                 0\n",
       "DewPointAvgF                  0\n",
       "DewPointLowF                  0\n",
       "HumidityHighPercent           0\n",
       "HumidityAvgPercent            0\n",
       "HumidityLowPercent            0\n",
       "SeaLevelPressureHighInches    0\n",
       "SeaLevelPressureAvgInches     0\n",
       "SeaLevelPressureLowInches     0\n",
       "VisibilityHighMiles           0\n",
       "VisibilityAvgMiles            0\n",
       "VisibilityLowMiles            0\n",
       "WindHighMPH                   0\n",
       "WindAvgMPH                    0\n",
       "WindGustMPH                   0\n",
       "Events                        0\n",
       "dtype: int64"
      ]
     },
     "execution_count": 528,
     "metadata": {},
     "output_type": "execute_result"
    }
   ],
   "source": [
    "# Your code here\n",
    "austin_fixed.isnull().sum()"
   ]
  },
  {
   "cell_type": "code",
   "execution_count": 530,
   "metadata": {},
   "outputs": [
    {
     "data": {
      "text/plain": [
       "Date                          0\n",
       "TempHighF                     0\n",
       "TempAvgF                      0\n",
       "TempLowF                      0\n",
       "DewPointHighF                 0\n",
       "DewPointAvgF                  0\n",
       "DewPointLowF                  0\n",
       "HumidityHighPercent           0\n",
       "HumidityAvgPercent            0\n",
       "HumidityLowPercent            0\n",
       "SeaLevelPressureHighInches    0\n",
       "SeaLevelPressureAvgInches     0\n",
       "SeaLevelPressureLowInches     0\n",
       "VisibilityHighMiles           0\n",
       "VisibilityAvgMiles            0\n",
       "VisibilityLowMiles            0\n",
       "WindHighMPH                   0\n",
       "WindAvgMPH                    0\n",
       "WindGustMPH                   0\n",
       "Events                        0\n",
       "dtype: int64"
      ]
     },
     "execution_count": 530,
     "metadata": {},
     "output_type": "execute_result"
    }
   ],
   "source": [
    "austin.isnull().sum()"
   ]
  },
  {
   "cell_type": "markdown",
   "metadata": {},
   "source": [
    "# Challenge 3 - Processing the `Events` Column"
   ]
  },
  {
   "cell_type": "markdown",
   "metadata": {},
   "source": [
    "#### Our dataframe contains one true text column - the Events column. We should evaluate this column to determine how to process it.\n",
    "\n",
    "Use the `value_counts()` function to evaluate the contents of this column"
   ]
  },
  {
   "cell_type": "code",
   "execution_count": 534,
   "metadata": {},
   "outputs": [
    {
     "name": "stdout",
     "output_type": "stream",
     "text": [
      "Contents of the 'Events' column:\n",
      "Events\n",
      "                             903\n",
      "Rain                         192\n",
      "Rain , Thunderstorm          137\n",
      "Fog , Rain , Thunderstorm     33\n",
      "Fog                           21\n",
      "Thunderstorm                  17\n",
      "Fog , Rain                    14\n",
      "Rain , Snow                    1\n",
      "Fog , Thunderstorm             1\n",
      "Name: count, dtype: int64\n"
     ]
    }
   ],
   "source": [
    "# Your code here:\n",
    "# Evaluate the contents of the Events column\n",
    "events_counts = austin['Events'].value_counts()\n",
    "\n",
    "# Display the unique values and their counts\n",
    "print(\"Contents of the 'Events' column:\")\n",
    "print(events_counts)"
   ]
  },
  {
   "cell_type": "markdown",
   "metadata": {},
   "source": [
    "Reading the values of `Events` and reflecting what those values mean in the context of data, you realize this column indicates what weather events had happened in a particular day.\n",
    "\n",
    "#### What is the largest number of events happened in a single day? Enter your answer in the next cell."
   ]
  },
  {
   "cell_type": "code",
   "execution_count": 537,
   "metadata": {},
   "outputs": [
    {
     "name": "stdout",
     "output_type": "stream",
     "text": [
      "The largest number of events that happened in a single day is: 3\n"
     ]
    }
   ],
   "source": [
    "# Your answer:\n",
    "# Calculate the maximum number of events in a single day\n",
    "max_events = austin['Events'].dropna().apply(lambda x: len(x.split(','))).max()\n",
    "\n",
    "print(\"The largest number of events that happened in a single day is:\", max_events)"
   ]
  },
  {
   "cell_type": "markdown",
   "metadata": {},
   "source": [
    "#### We want to transform the string-type `Events` values to the numbers. This will allow us to apply machine learning algorithms easily.\n",
    "\n",
    "How? We will create a new column for each type of events (i.e. *Rain*, *Snow*, *Fog*, *Thunderstorm*. In each column, we use `1` to indicate if the corresponding event happened in that day and use `0` otherwise.\n",
    "\n",
    "Below we provide you a list of all event types. Loop the list and create a dummy column with `0` values for each event in `austin_fixed`. To create a new dummy column with `0` values, simply use `austin_fixed[event] = 0`."
   ]
  },
  {
   "cell_type": "code",
   "execution_count": 543,
   "metadata": {},
   "outputs": [
    {
     "data": {
      "text/html": [
       "<div>\n",
       "<style scoped>\n",
       "    .dataframe tbody tr th:only-of-type {\n",
       "        vertical-align: middle;\n",
       "    }\n",
       "\n",
       "    .dataframe tbody tr th {\n",
       "        vertical-align: top;\n",
       "    }\n",
       "\n",
       "    .dataframe thead th {\n",
       "        text-align: right;\n",
       "    }\n",
       "</style>\n",
       "<table border=\"1\" class=\"dataframe\">\n",
       "  <thead>\n",
       "    <tr style=\"text-align: right;\">\n",
       "      <th></th>\n",
       "      <th>Date</th>\n",
       "      <th>TempHighF</th>\n",
       "      <th>TempAvgF</th>\n",
       "      <th>TempLowF</th>\n",
       "      <th>DewPointHighF</th>\n",
       "      <th>DewPointAvgF</th>\n",
       "      <th>DewPointLowF</th>\n",
       "      <th>HumidityHighPercent</th>\n",
       "      <th>HumidityAvgPercent</th>\n",
       "      <th>HumidityLowPercent</th>\n",
       "      <th>...</th>\n",
       "      <th>VisibilityAvgMiles</th>\n",
       "      <th>VisibilityLowMiles</th>\n",
       "      <th>WindHighMPH</th>\n",
       "      <th>WindAvgMPH</th>\n",
       "      <th>WindGustMPH</th>\n",
       "      <th>Events</th>\n",
       "      <th>Snow</th>\n",
       "      <th>Fog</th>\n",
       "      <th>Rain</th>\n",
       "      <th>Thunderstorm</th>\n",
       "    </tr>\n",
       "  </thead>\n",
       "  <tbody>\n",
       "    <tr>\n",
       "      <th>0</th>\n",
       "      <td>2013-12-21</td>\n",
       "      <td>74</td>\n",
       "      <td>60</td>\n",
       "      <td>45</td>\n",
       "      <td>67.0</td>\n",
       "      <td>49.0</td>\n",
       "      <td>43.0</td>\n",
       "      <td>93.0</td>\n",
       "      <td>75.0</td>\n",
       "      <td>57.0</td>\n",
       "      <td>...</td>\n",
       "      <td>7.0</td>\n",
       "      <td>2.0</td>\n",
       "      <td>20.0</td>\n",
       "      <td>4.0</td>\n",
       "      <td>31.0</td>\n",
       "      <td>Rain , Thunderstorm</td>\n",
       "      <td>0</td>\n",
       "      <td>0</td>\n",
       "      <td>0</td>\n",
       "      <td>0</td>\n",
       "    </tr>\n",
       "    <tr>\n",
       "      <th>1</th>\n",
       "      <td>2013-12-22</td>\n",
       "      <td>56</td>\n",
       "      <td>48</td>\n",
       "      <td>39</td>\n",
       "      <td>43.0</td>\n",
       "      <td>36.0</td>\n",
       "      <td>28.0</td>\n",
       "      <td>93.0</td>\n",
       "      <td>68.0</td>\n",
       "      <td>43.0</td>\n",
       "      <td>...</td>\n",
       "      <td>10.0</td>\n",
       "      <td>5.0</td>\n",
       "      <td>16.0</td>\n",
       "      <td>6.0</td>\n",
       "      <td>25.0</td>\n",
       "      <td></td>\n",
       "      <td>0</td>\n",
       "      <td>0</td>\n",
       "      <td>0</td>\n",
       "      <td>0</td>\n",
       "    </tr>\n",
       "    <tr>\n",
       "      <th>2</th>\n",
       "      <td>2013-12-23</td>\n",
       "      <td>58</td>\n",
       "      <td>45</td>\n",
       "      <td>32</td>\n",
       "      <td>31.0</td>\n",
       "      <td>27.0</td>\n",
       "      <td>23.0</td>\n",
       "      <td>76.0</td>\n",
       "      <td>52.0</td>\n",
       "      <td>27.0</td>\n",
       "      <td>...</td>\n",
       "      <td>10.0</td>\n",
       "      <td>10.0</td>\n",
       "      <td>8.0</td>\n",
       "      <td>3.0</td>\n",
       "      <td>12.0</td>\n",
       "      <td></td>\n",
       "      <td>0</td>\n",
       "      <td>0</td>\n",
       "      <td>0</td>\n",
       "      <td>0</td>\n",
       "    </tr>\n",
       "    <tr>\n",
       "      <th>3</th>\n",
       "      <td>2013-12-24</td>\n",
       "      <td>61</td>\n",
       "      <td>46</td>\n",
       "      <td>31</td>\n",
       "      <td>36.0</td>\n",
       "      <td>28.0</td>\n",
       "      <td>21.0</td>\n",
       "      <td>89.0</td>\n",
       "      <td>56.0</td>\n",
       "      <td>22.0</td>\n",
       "      <td>...</td>\n",
       "      <td>10.0</td>\n",
       "      <td>7.0</td>\n",
       "      <td>12.0</td>\n",
       "      <td>4.0</td>\n",
       "      <td>20.0</td>\n",
       "      <td></td>\n",
       "      <td>0</td>\n",
       "      <td>0</td>\n",
       "      <td>0</td>\n",
       "      <td>0</td>\n",
       "    </tr>\n",
       "    <tr>\n",
       "      <th>4</th>\n",
       "      <td>2013-12-25</td>\n",
       "      <td>58</td>\n",
       "      <td>50</td>\n",
       "      <td>41</td>\n",
       "      <td>44.0</td>\n",
       "      <td>40.0</td>\n",
       "      <td>36.0</td>\n",
       "      <td>86.0</td>\n",
       "      <td>71.0</td>\n",
       "      <td>56.0</td>\n",
       "      <td>...</td>\n",
       "      <td>10.0</td>\n",
       "      <td>7.0</td>\n",
       "      <td>10.0</td>\n",
       "      <td>2.0</td>\n",
       "      <td>16.0</td>\n",
       "      <td></td>\n",
       "      <td>0</td>\n",
       "      <td>0</td>\n",
       "      <td>0</td>\n",
       "      <td>0</td>\n",
       "    </tr>\n",
       "  </tbody>\n",
       "</table>\n",
       "<p>5 rows × 24 columns</p>\n",
       "</div>"
      ],
      "text/plain": [
       "        Date  TempHighF  TempAvgF  TempLowF  DewPointHighF  DewPointAvgF  \\\n",
       "0 2013-12-21         74        60        45           67.0          49.0   \n",
       "1 2013-12-22         56        48        39           43.0          36.0   \n",
       "2 2013-12-23         58        45        32           31.0          27.0   \n",
       "3 2013-12-24         61        46        31           36.0          28.0   \n",
       "4 2013-12-25         58        50        41           44.0          40.0   \n",
       "\n",
       "   DewPointLowF  HumidityHighPercent  HumidityAvgPercent  HumidityLowPercent  \\\n",
       "0          43.0                 93.0                75.0                57.0   \n",
       "1          28.0                 93.0                68.0                43.0   \n",
       "2          23.0                 76.0                52.0                27.0   \n",
       "3          21.0                 89.0                56.0                22.0   \n",
       "4          36.0                 86.0                71.0                56.0   \n",
       "\n",
       "   ...  VisibilityAvgMiles  VisibilityLowMiles  WindHighMPH  WindAvgMPH  \\\n",
       "0  ...                 7.0                 2.0         20.0         4.0   \n",
       "1  ...                10.0                 5.0         16.0         6.0   \n",
       "2  ...                10.0                10.0          8.0         3.0   \n",
       "3  ...                10.0                 7.0         12.0         4.0   \n",
       "4  ...                10.0                 7.0         10.0         2.0   \n",
       "\n",
       "   WindGustMPH               Events  Snow  Fog  Rain Thunderstorm  \n",
       "0         31.0  Rain , Thunderstorm     0    0     0            0  \n",
       "1         25.0                          0    0     0            0  \n",
       "2         12.0                          0    0     0            0  \n",
       "3         20.0                          0    0     0            0  \n",
       "4         16.0                          0    0     0            0  \n",
       "\n",
       "[5 rows x 24 columns]"
      ]
     },
     "execution_count": 543,
     "metadata": {},
     "output_type": "execute_result"
    }
   ],
   "source": [
    "event_list = ['Snow', 'Fog', 'Rain', 'Thunderstorm']\n",
    "\n",
    "# Your code here\n",
    "for event in event_list:\n",
    "    austin_fixed[event] = 0\n",
    "\n",
    "# Print your new dataframe to check whether new columns have been created:\n",
    "\n",
    "austin_fixed.head()"
   ]
  },
  {
   "cell_type": "markdown",
   "metadata": {},
   "source": [
    "#### Next, populate the actual values in the dummy columns of  `austin_fixed`.\n",
    "\n",
    "You will check the *Events* column. If its string value contains `Rain`, then the *Rain* column should be `1`. The same for `Snow`, `Fog`, and `Thunderstorm`.\n",
    "\n",
    "*Hints:*\n",
    "\n",
    "* Use [`pandas.Series.str.contains()`](https://pandas.pydata.org/pandas-docs/stable/generated/pandas.Series.str.contains.html) to create the value series of each new column.\n",
    "\n",
    "* What if the values you populated are booleans instead of numbers? You can cast the boolean values to numbers by using `.astype(int)`. For instance, `pd.Series([True, True, False]).astype(int)` will return a new series with values of `[1, 1, 0]`."
   ]
  },
  {
   "cell_type": "code",
   "execution_count": 547,
   "metadata": {},
   "outputs": [],
   "source": [
    "# Your code here\n",
    "# Populate the dummy columns based on the Events column\n",
    "for event in event_list:\n",
    "    austin_fixed[event] = austin_fixed['Events'].str.contains(event, na=False).astype(int)"
   ]
  },
  {
   "cell_type": "markdown",
   "metadata": {},
   "source": [
    "#### Print out `austin_fixed` to check if the event columns are populated with the intended values"
   ]
  },
  {
   "cell_type": "code",
   "execution_count": 549,
   "metadata": {},
   "outputs": [
    {
     "data": {
      "text/html": [
       "<div>\n",
       "<style scoped>\n",
       "    .dataframe tbody tr th:only-of-type {\n",
       "        vertical-align: middle;\n",
       "    }\n",
       "\n",
       "    .dataframe tbody tr th {\n",
       "        vertical-align: top;\n",
       "    }\n",
       "\n",
       "    .dataframe thead th {\n",
       "        text-align: right;\n",
       "    }\n",
       "</style>\n",
       "<table border=\"1\" class=\"dataframe\">\n",
       "  <thead>\n",
       "    <tr style=\"text-align: right;\">\n",
       "      <th></th>\n",
       "      <th>Date</th>\n",
       "      <th>TempHighF</th>\n",
       "      <th>TempAvgF</th>\n",
       "      <th>TempLowF</th>\n",
       "      <th>DewPointHighF</th>\n",
       "      <th>DewPointAvgF</th>\n",
       "      <th>DewPointLowF</th>\n",
       "      <th>HumidityHighPercent</th>\n",
       "      <th>HumidityAvgPercent</th>\n",
       "      <th>HumidityLowPercent</th>\n",
       "      <th>...</th>\n",
       "      <th>VisibilityAvgMiles</th>\n",
       "      <th>VisibilityLowMiles</th>\n",
       "      <th>WindHighMPH</th>\n",
       "      <th>WindAvgMPH</th>\n",
       "      <th>WindGustMPH</th>\n",
       "      <th>Events</th>\n",
       "      <th>Snow</th>\n",
       "      <th>Fog</th>\n",
       "      <th>Rain</th>\n",
       "      <th>Thunderstorm</th>\n",
       "    </tr>\n",
       "  </thead>\n",
       "  <tbody>\n",
       "    <tr>\n",
       "      <th>0</th>\n",
       "      <td>2013-12-21</td>\n",
       "      <td>74</td>\n",
       "      <td>60</td>\n",
       "      <td>45</td>\n",
       "      <td>67.0</td>\n",
       "      <td>49.0</td>\n",
       "      <td>43.0</td>\n",
       "      <td>93.0</td>\n",
       "      <td>75.0</td>\n",
       "      <td>57.0</td>\n",
       "      <td>...</td>\n",
       "      <td>7.0</td>\n",
       "      <td>2.0</td>\n",
       "      <td>20.0</td>\n",
       "      <td>4.0</td>\n",
       "      <td>31.0</td>\n",
       "      <td>Rain , Thunderstorm</td>\n",
       "      <td>0</td>\n",
       "      <td>0</td>\n",
       "      <td>1</td>\n",
       "      <td>1</td>\n",
       "    </tr>\n",
       "    <tr>\n",
       "      <th>1</th>\n",
       "      <td>2013-12-22</td>\n",
       "      <td>56</td>\n",
       "      <td>48</td>\n",
       "      <td>39</td>\n",
       "      <td>43.0</td>\n",
       "      <td>36.0</td>\n",
       "      <td>28.0</td>\n",
       "      <td>93.0</td>\n",
       "      <td>68.0</td>\n",
       "      <td>43.0</td>\n",
       "      <td>...</td>\n",
       "      <td>10.0</td>\n",
       "      <td>5.0</td>\n",
       "      <td>16.0</td>\n",
       "      <td>6.0</td>\n",
       "      <td>25.0</td>\n",
       "      <td></td>\n",
       "      <td>0</td>\n",
       "      <td>0</td>\n",
       "      <td>0</td>\n",
       "      <td>0</td>\n",
       "    </tr>\n",
       "    <tr>\n",
       "      <th>2</th>\n",
       "      <td>2013-12-23</td>\n",
       "      <td>58</td>\n",
       "      <td>45</td>\n",
       "      <td>32</td>\n",
       "      <td>31.0</td>\n",
       "      <td>27.0</td>\n",
       "      <td>23.0</td>\n",
       "      <td>76.0</td>\n",
       "      <td>52.0</td>\n",
       "      <td>27.0</td>\n",
       "      <td>...</td>\n",
       "      <td>10.0</td>\n",
       "      <td>10.0</td>\n",
       "      <td>8.0</td>\n",
       "      <td>3.0</td>\n",
       "      <td>12.0</td>\n",
       "      <td></td>\n",
       "      <td>0</td>\n",
       "      <td>0</td>\n",
       "      <td>0</td>\n",
       "      <td>0</td>\n",
       "    </tr>\n",
       "    <tr>\n",
       "      <th>3</th>\n",
       "      <td>2013-12-24</td>\n",
       "      <td>61</td>\n",
       "      <td>46</td>\n",
       "      <td>31</td>\n",
       "      <td>36.0</td>\n",
       "      <td>28.0</td>\n",
       "      <td>21.0</td>\n",
       "      <td>89.0</td>\n",
       "      <td>56.0</td>\n",
       "      <td>22.0</td>\n",
       "      <td>...</td>\n",
       "      <td>10.0</td>\n",
       "      <td>7.0</td>\n",
       "      <td>12.0</td>\n",
       "      <td>4.0</td>\n",
       "      <td>20.0</td>\n",
       "      <td></td>\n",
       "      <td>0</td>\n",
       "      <td>0</td>\n",
       "      <td>0</td>\n",
       "      <td>0</td>\n",
       "    </tr>\n",
       "    <tr>\n",
       "      <th>4</th>\n",
       "      <td>2013-12-25</td>\n",
       "      <td>58</td>\n",
       "      <td>50</td>\n",
       "      <td>41</td>\n",
       "      <td>44.0</td>\n",
       "      <td>40.0</td>\n",
       "      <td>36.0</td>\n",
       "      <td>86.0</td>\n",
       "      <td>71.0</td>\n",
       "      <td>56.0</td>\n",
       "      <td>...</td>\n",
       "      <td>10.0</td>\n",
       "      <td>7.0</td>\n",
       "      <td>10.0</td>\n",
       "      <td>2.0</td>\n",
       "      <td>16.0</td>\n",
       "      <td></td>\n",
       "      <td>0</td>\n",
       "      <td>0</td>\n",
       "      <td>0</td>\n",
       "      <td>0</td>\n",
       "    </tr>\n",
       "  </tbody>\n",
       "</table>\n",
       "<p>5 rows × 24 columns</p>\n",
       "</div>"
      ],
      "text/plain": [
       "        Date  TempHighF  TempAvgF  TempLowF  DewPointHighF  DewPointAvgF  \\\n",
       "0 2013-12-21         74        60        45           67.0          49.0   \n",
       "1 2013-12-22         56        48        39           43.0          36.0   \n",
       "2 2013-12-23         58        45        32           31.0          27.0   \n",
       "3 2013-12-24         61        46        31           36.0          28.0   \n",
       "4 2013-12-25         58        50        41           44.0          40.0   \n",
       "\n",
       "   DewPointLowF  HumidityHighPercent  HumidityAvgPercent  HumidityLowPercent  \\\n",
       "0          43.0                 93.0                75.0                57.0   \n",
       "1          28.0                 93.0                68.0                43.0   \n",
       "2          23.0                 76.0                52.0                27.0   \n",
       "3          21.0                 89.0                56.0                22.0   \n",
       "4          36.0                 86.0                71.0                56.0   \n",
       "\n",
       "   ...  VisibilityAvgMiles  VisibilityLowMiles  WindHighMPH  WindAvgMPH  \\\n",
       "0  ...                 7.0                 2.0         20.0         4.0   \n",
       "1  ...                10.0                 5.0         16.0         6.0   \n",
       "2  ...                10.0                10.0          8.0         3.0   \n",
       "3  ...                10.0                 7.0         12.0         4.0   \n",
       "4  ...                10.0                 7.0         10.0         2.0   \n",
       "\n",
       "   WindGustMPH               Events  Snow  Fog  Rain Thunderstorm  \n",
       "0         31.0  Rain , Thunderstorm     0    0     1            1  \n",
       "1         25.0                          0    0     0            0  \n",
       "2         12.0                          0    0     0            0  \n",
       "3         20.0                          0    0     0            0  \n",
       "4         16.0                          0    0     0            0  \n",
       "\n",
       "[5 rows x 24 columns]"
      ]
     },
     "execution_count": 549,
     "metadata": {},
     "output_type": "execute_result"
    }
   ],
   "source": [
    "# Your code here\n",
    "austin_fixed.head()"
   ]
  },
  {
   "cell_type": "markdown",
   "metadata": {},
   "source": [
    "#### If your code worked correctly, now we can drop the `Events` column as we don't need it any more."
   ]
  },
  {
   "cell_type": "code",
   "execution_count": 551,
   "metadata": {},
   "outputs": [],
   "source": [
    "# Your code here\n",
    "austin_fixed = austin_fixed.drop(columns=['Events'])"
   ]
  },
  {
   "cell_type": "markdown",
   "metadata": {},
   "source": [
    "# Challenge 4 - Processing The `Date` Column\n",
    "\n",
    "The `Date` column is another non-numeric field in our dataset. A value in that field looks like `'2014-01-06'` which consists of the year, month, and day connected with hyphens. One way to convert the date string to numerical is using a similar approach as we used for `Events`, namely splitting the column into numerical `Year`, `Month`, and `Day` columns. In this challenge we'll show you another way which is to use the Python `datetime` library's `toordinal()` function. Depending on what actual machine learning analysis you will conduct, each approach has its pros and cons. Our goal today is to practice data preparation so we'll skip the discussion here.\n",
    "\n",
    "Here you can find the [reference](https://docs.python.org/3/library/datetime.html) and [example](https://stackoverflow.com/questions/39846918/convert-date-to-ordinal-python) for `toordinal`. The basic process is to first convert the string to a `datetime` object using `datetime.datetime.strptime`, then convert the `datetime` object to numerical using `toordinal`.\n",
    "\n",
    "#### In the cell below, convert the `Date` column values from string to numeric values using `toordinal()`."
   ]
  },
  {
   "cell_type": "code",
   "execution_count": 555,
   "metadata": {},
   "outputs": [],
   "source": [
    "# Your code here\n",
    "from datetime import datetime\n",
    "\n",
    "# Convert the Date column to datetime objects and then to ordinal numbers\n",
    "austin_fixed['Date'] = austin_fixed['Date'].apply(lambda x: x.toordinal() if isinstance(x, (datetime, pd.Timestamp)) else datetime.strptime(x, '%Y-%m-%d').toordinal())"
   ]
  },
  {
   "cell_type": "markdown",
   "metadata": {},
   "source": [
    "#### Print `austin_fixed` to check your `Date` column."
   ]
  },
  {
   "cell_type": "code",
   "execution_count": 558,
   "metadata": {},
   "outputs": [
    {
     "data": {
      "text/html": [
       "<div>\n",
       "<style scoped>\n",
       "    .dataframe tbody tr th:only-of-type {\n",
       "        vertical-align: middle;\n",
       "    }\n",
       "\n",
       "    .dataframe tbody tr th {\n",
       "        vertical-align: top;\n",
       "    }\n",
       "\n",
       "    .dataframe thead th {\n",
       "        text-align: right;\n",
       "    }\n",
       "</style>\n",
       "<table border=\"1\" class=\"dataframe\">\n",
       "  <thead>\n",
       "    <tr style=\"text-align: right;\">\n",
       "      <th></th>\n",
       "      <th>Date</th>\n",
       "      <th>TempHighF</th>\n",
       "      <th>TempAvgF</th>\n",
       "      <th>TempLowF</th>\n",
       "      <th>DewPointHighF</th>\n",
       "      <th>DewPointAvgF</th>\n",
       "      <th>DewPointLowF</th>\n",
       "      <th>HumidityHighPercent</th>\n",
       "      <th>HumidityAvgPercent</th>\n",
       "      <th>HumidityLowPercent</th>\n",
       "      <th>...</th>\n",
       "      <th>VisibilityHighMiles</th>\n",
       "      <th>VisibilityAvgMiles</th>\n",
       "      <th>VisibilityLowMiles</th>\n",
       "      <th>WindHighMPH</th>\n",
       "      <th>WindAvgMPH</th>\n",
       "      <th>WindGustMPH</th>\n",
       "      <th>Snow</th>\n",
       "      <th>Fog</th>\n",
       "      <th>Rain</th>\n",
       "      <th>Thunderstorm</th>\n",
       "    </tr>\n",
       "  </thead>\n",
       "  <tbody>\n",
       "    <tr>\n",
       "      <th>0</th>\n",
       "      <td>735223</td>\n",
       "      <td>74</td>\n",
       "      <td>60</td>\n",
       "      <td>45</td>\n",
       "      <td>67.0</td>\n",
       "      <td>49.0</td>\n",
       "      <td>43.0</td>\n",
       "      <td>93.0</td>\n",
       "      <td>75.0</td>\n",
       "      <td>57.0</td>\n",
       "      <td>...</td>\n",
       "      <td>10.0</td>\n",
       "      <td>7.0</td>\n",
       "      <td>2.0</td>\n",
       "      <td>20.0</td>\n",
       "      <td>4.0</td>\n",
       "      <td>31.0</td>\n",
       "      <td>0</td>\n",
       "      <td>0</td>\n",
       "      <td>1</td>\n",
       "      <td>1</td>\n",
       "    </tr>\n",
       "    <tr>\n",
       "      <th>1</th>\n",
       "      <td>735224</td>\n",
       "      <td>56</td>\n",
       "      <td>48</td>\n",
       "      <td>39</td>\n",
       "      <td>43.0</td>\n",
       "      <td>36.0</td>\n",
       "      <td>28.0</td>\n",
       "      <td>93.0</td>\n",
       "      <td>68.0</td>\n",
       "      <td>43.0</td>\n",
       "      <td>...</td>\n",
       "      <td>10.0</td>\n",
       "      <td>10.0</td>\n",
       "      <td>5.0</td>\n",
       "      <td>16.0</td>\n",
       "      <td>6.0</td>\n",
       "      <td>25.0</td>\n",
       "      <td>0</td>\n",
       "      <td>0</td>\n",
       "      <td>0</td>\n",
       "      <td>0</td>\n",
       "    </tr>\n",
       "    <tr>\n",
       "      <th>2</th>\n",
       "      <td>735225</td>\n",
       "      <td>58</td>\n",
       "      <td>45</td>\n",
       "      <td>32</td>\n",
       "      <td>31.0</td>\n",
       "      <td>27.0</td>\n",
       "      <td>23.0</td>\n",
       "      <td>76.0</td>\n",
       "      <td>52.0</td>\n",
       "      <td>27.0</td>\n",
       "      <td>...</td>\n",
       "      <td>10.0</td>\n",
       "      <td>10.0</td>\n",
       "      <td>10.0</td>\n",
       "      <td>8.0</td>\n",
       "      <td>3.0</td>\n",
       "      <td>12.0</td>\n",
       "      <td>0</td>\n",
       "      <td>0</td>\n",
       "      <td>0</td>\n",
       "      <td>0</td>\n",
       "    </tr>\n",
       "    <tr>\n",
       "      <th>3</th>\n",
       "      <td>735226</td>\n",
       "      <td>61</td>\n",
       "      <td>46</td>\n",
       "      <td>31</td>\n",
       "      <td>36.0</td>\n",
       "      <td>28.0</td>\n",
       "      <td>21.0</td>\n",
       "      <td>89.0</td>\n",
       "      <td>56.0</td>\n",
       "      <td>22.0</td>\n",
       "      <td>...</td>\n",
       "      <td>10.0</td>\n",
       "      <td>10.0</td>\n",
       "      <td>7.0</td>\n",
       "      <td>12.0</td>\n",
       "      <td>4.0</td>\n",
       "      <td>20.0</td>\n",
       "      <td>0</td>\n",
       "      <td>0</td>\n",
       "      <td>0</td>\n",
       "      <td>0</td>\n",
       "    </tr>\n",
       "    <tr>\n",
       "      <th>4</th>\n",
       "      <td>735227</td>\n",
       "      <td>58</td>\n",
       "      <td>50</td>\n",
       "      <td>41</td>\n",
       "      <td>44.0</td>\n",
       "      <td>40.0</td>\n",
       "      <td>36.0</td>\n",
       "      <td>86.0</td>\n",
       "      <td>71.0</td>\n",
       "      <td>56.0</td>\n",
       "      <td>...</td>\n",
       "      <td>10.0</td>\n",
       "      <td>10.0</td>\n",
       "      <td>7.0</td>\n",
       "      <td>10.0</td>\n",
       "      <td>2.0</td>\n",
       "      <td>16.0</td>\n",
       "      <td>0</td>\n",
       "      <td>0</td>\n",
       "      <td>0</td>\n",
       "      <td>0</td>\n",
       "    </tr>\n",
       "  </tbody>\n",
       "</table>\n",
       "<p>5 rows × 23 columns</p>\n",
       "</div>"
      ],
      "text/plain": [
       "     Date  TempHighF  TempAvgF  TempLowF  DewPointHighF  DewPointAvgF  \\\n",
       "0  735223         74        60        45           67.0          49.0   \n",
       "1  735224         56        48        39           43.0          36.0   \n",
       "2  735225         58        45        32           31.0          27.0   \n",
       "3  735226         61        46        31           36.0          28.0   \n",
       "4  735227         58        50        41           44.0          40.0   \n",
       "\n",
       "   DewPointLowF  HumidityHighPercent  HumidityAvgPercent  HumidityLowPercent  \\\n",
       "0          43.0                 93.0                75.0                57.0   \n",
       "1          28.0                 93.0                68.0                43.0   \n",
       "2          23.0                 76.0                52.0                27.0   \n",
       "3          21.0                 89.0                56.0                22.0   \n",
       "4          36.0                 86.0                71.0                56.0   \n",
       "\n",
       "   ...  VisibilityHighMiles  VisibilityAvgMiles  VisibilityLowMiles  \\\n",
       "0  ...                 10.0                 7.0                 2.0   \n",
       "1  ...                 10.0                10.0                 5.0   \n",
       "2  ...                 10.0                10.0                10.0   \n",
       "3  ...                 10.0                10.0                 7.0   \n",
       "4  ...                 10.0                10.0                 7.0   \n",
       "\n",
       "   WindHighMPH  WindAvgMPH  WindGustMPH  Snow  Fog  Rain  Thunderstorm  \n",
       "0         20.0         4.0         31.0     0    0     1             1  \n",
       "1         16.0         6.0         25.0     0    0     0             0  \n",
       "2          8.0         3.0         12.0     0    0     0             0  \n",
       "3         12.0         4.0         20.0     0    0     0             0  \n",
       "4         10.0         2.0         16.0     0    0     0             0  \n",
       "\n",
       "[5 rows x 23 columns]"
      ]
     },
     "execution_count": 558,
     "metadata": {},
     "output_type": "execute_result"
    }
   ],
   "source": [
    "austin_fixed.head(5)"
   ]
  },
  {
   "cell_type": "markdown",
   "metadata": {},
   "source": [
    "# Challenge 5 - Sampling and Holdout Sets"
   ]
  },
  {
   "cell_type": "markdown",
   "metadata": {},
   "source": [
    "#### Now that we have processed the data for machine learning, we will separate the data to test and training sets.\n",
    "\n",
    "We first train the model using only the training set. We check our metrics on the training set. We then apply the model to the test set and check our metrics on the test set as well. If the metrics are significantly more optimal on the training set, then we know we have overfit our model. We will need to revise our model to ensure it will be more applicable to data outside the test set."
   ]
  },
  {
   "cell_type": "markdown",
   "metadata": {},
   "source": [
    "#### In the next cells we will separate the data into a training set and a test set using the `train_test_split()` function in scikit-learn.\n",
    "\n",
    "When using `scikit-learn` for machine learning, we first separate the data to predictor and response variables. This is the standard way of passing datasets into a model in `scikit-learn`. The `scikit-learn` will then find out whether the predictors and responses fit the model.\n",
    "\n",
    "In the next cell, assign the `TempAvgF` column to `y` and the remaining columns to `X`. Your `X` should be a subset of `austin_fixed` containing the following columns: \n",
    "\n",
    "```['Date',\n",
    " 'TempHighF',\n",
    " 'TempLowF',\n",
    " 'DewPointHighF',\n",
    " 'DewPointAvgF',\n",
    " 'DewPointLowF',\n",
    " 'HumidityHighPercent',\n",
    " 'HumidityAvgPercent',\n",
    " 'HumidityLowPercent',\n",
    " 'SeaLevelPressureHighInches',\n",
    " 'SeaLevelPressureAvgInches',\n",
    " 'SeaLevelPressureLowInches',\n",
    " 'VisibilityHighMiles',\n",
    " 'VisibilityAvgMiles',\n",
    " 'VisibilityLowMiles',\n",
    " 'WindHighMPH',\n",
    " 'WindAvgMPH',\n",
    " 'WindGustMPH',\n",
    " 'Snow',\n",
    " 'Fog',\n",
    " 'Rain',\n",
    " 'Thunderstorm']```\n",
    " \n",
    " Your `y` should be a subset of `austin_fixed` containing one column `TempAvgF`."
   ]
  },
  {
   "cell_type": "code",
   "execution_count": 560,
   "metadata": {},
   "outputs": [
    {
     "name": "stdout",
     "output_type": "stream",
     "text": [
      "Predictor variables (X):\n",
      "   TempHighF  TempLowF  DewPointHighF  DewPointAvgF  DewPointLowF  \\\n",
      "0         74        45           67.0          49.0          43.0   \n",
      "1         56        39           43.0          36.0          28.0   \n",
      "2         58        32           31.0          27.0          23.0   \n",
      "3         61        31           36.0          28.0          21.0   \n",
      "4         58        41           44.0          40.0          36.0   \n",
      "\n",
      "   HumidityHighPercent  HumidityAvgPercent  HumidityLowPercent  \\\n",
      "0                 93.0                75.0                57.0   \n",
      "1                 93.0                68.0                43.0   \n",
      "2                 76.0                52.0                27.0   \n",
      "3                 89.0                56.0                22.0   \n",
      "4                 86.0                71.0                56.0   \n",
      "\n",
      "   SeaLevelPressureHighInches  SeaLevelPressureAvgInches  ...  \\\n",
      "0                       29.86                      29.68  ...   \n",
      "1                       30.41                      30.13  ...   \n",
      "2                       30.56                      30.49  ...   \n",
      "3                       30.56                      30.45  ...   \n",
      "4                       30.41                      30.33  ...   \n",
      "\n",
      "   VisibilityHighMiles  VisibilityAvgMiles  VisibilityLowMiles  WindHighMPH  \\\n",
      "0                 10.0                 7.0                 2.0         20.0   \n",
      "1                 10.0                10.0                 5.0         16.0   \n",
      "2                 10.0                10.0                10.0          8.0   \n",
      "3                 10.0                10.0                 7.0         12.0   \n",
      "4                 10.0                10.0                 7.0         10.0   \n",
      "\n",
      "   WindAvgMPH  WindGustMPH  Snow  Fog  Rain  Thunderstorm  \n",
      "0         4.0         31.0     0    0     1             1  \n",
      "1         6.0         25.0     0    0     0             0  \n",
      "2         3.0         12.0     0    0     0             0  \n",
      "3         4.0         20.0     0    0     0             0  \n",
      "4         2.0         16.0     0    0     0             0  \n",
      "\n",
      "[5 rows x 21 columns]\n",
      "\n",
      "Response variable (y):\n",
      "0    60\n",
      "1    48\n",
      "2    45\n",
      "3    46\n",
      "4    50\n",
      "Name: TempAvgF, dtype: int64\n"
     ]
    }
   ],
   "source": [
    "# Your code here:\n",
    "# Assign predictor variables to X\n",
    "X = austin_fixed[\n",
    "    [\n",
    "        'TempHighF',\n",
    "        'TempLowF',\n",
    "        'DewPointHighF',\n",
    "        'DewPointAvgF',\n",
    "        'DewPointLowF',\n",
    "        'HumidityHighPercent',\n",
    "        'HumidityAvgPercent',\n",
    "        'HumidityLowPercent',\n",
    "        'SeaLevelPressureHighInches',\n",
    "        'SeaLevelPressureAvgInches',\n",
    "        'SeaLevelPressureLowInches',\n",
    "        'VisibilityHighMiles',\n",
    "        'VisibilityAvgMiles',\n",
    "        'VisibilityLowMiles',\n",
    "        'WindHighMPH',\n",
    "        'WindAvgMPH',\n",
    "        'WindGustMPH',\n",
    "        'Snow',\n",
    "        'Fog',\n",
    "        'Rain',\n",
    "        'Thunderstorm',\n",
    "    ]\n",
    "]\n",
    "\n",
    "# Assign response variable to y\n",
    "y = austin_fixed['TempAvgF']\n",
    "\n",
    "# Display the first few rows of X and y to verify\n",
    "print(\"Predictor variables (X):\")\n",
    "print(X.head())\n",
    "\n",
    "print(\"\\nResponse variable (y):\")\n",
    "print(y.head())"
   ]
  },
  {
   "cell_type": "markdown",
   "metadata": {},
   "source": [
    "In the next cell, import `train_test_split` from `sklearn.model_selection`"
   ]
  },
  {
   "cell_type": "code",
   "execution_count": 562,
   "metadata": {},
   "outputs": [],
   "source": [
    "#Your code here:\n",
    "from sklearn.model_selection import train_test_split"
   ]
  },
  {
   "cell_type": "markdown",
   "metadata": {},
   "source": [
    "Now that we have split the data to predictor and response variables and imported the `train_test_split()` function, split `X` and `y` into `X_train`, `X_test`, `y_train`, and `y_test`. 80% of the data should be in the training set and 20% in the test set. `train_test_split()` reference can be accessed [here](https://scikit-learn.org/stable/modules/generated/sklearn.model_selection.train_test_split.html).\n",
    "\n",
    "\n",
    "Enter your code in the cell below:"
   ]
  },
  {
   "cell_type": "code",
   "execution_count": 564,
   "metadata": {},
   "outputs": [
    {
     "name": "stdout",
     "output_type": "stream",
     "text": [
      "Training set:\n",
      "X_train shape: (1055, 21)\n",
      "y_train shape: (1055,)\n",
      "\n",
      "Test set:\n",
      "X_test shape: (264, 21)\n",
      "y_test shape: (264,)\n"
     ]
    }
   ],
   "source": [
    "#Your code here:\n",
    "# Split the data into training and test sets\n",
    "X_train, X_test, y_train, y_test = train_test_split(X, y, test_size=0.2, random_state=42)\n",
    "\n",
    "# Display the sizes of the resulting datasets\n",
    "print(\"Training set:\")\n",
    "print(f\"X_train shape: {X_train.shape}\")\n",
    "print(f\"y_train shape: {y_train.shape}\")\n",
    "\n",
    "print(\"\\nTest set:\")\n",
    "print(f\"X_test shape: {X_test.shape}\")\n",
    "print(f\"y_test shape: {y_test.shape}\")"
   ]
  },
  {
   "cell_type": "markdown",
   "metadata": {},
   "source": [
    "#### Congratulations! Now you have finished the preparation of the dataset!"
   ]
  },
  {
   "cell_type": "markdown",
   "metadata": {},
   "source": [
    "# Bonus Challenge 1\n",
    "\n",
    "#### While the above is the common practice to prepare most datasets, when it comes to time series data, we sometimes do not want to randomly select rows from our dataset.\n",
    "\n",
    "This is because many time series algorithms rely on observations having equal time distances between them. In such cases, we typically select the majority of rows as the test data and the last few rows as the training data. We don't use `train_test_split()` to select the train/test data because it returns random selections.\n",
    "\n",
    "In the following cell, compute the number of rows that account for 80% of our data and round it to the next integer. Assign this number to `ts_rows`."
   ]
  },
  {
   "cell_type": "code",
   "execution_count": 382,
   "metadata": {},
   "outputs": [],
   "source": [
    "# Your code here:\n"
   ]
  },
  {
   "cell_type": "markdown",
   "metadata": {},
   "source": [
    "Assign the first `ts_rows` rows of `X` to `X_ts_train` and the remaining rows to `X_ts_test`."
   ]
  },
  {
   "cell_type": "code",
   "execution_count": 384,
   "metadata": {},
   "outputs": [],
   "source": [
    "# Your code here:\n"
   ]
  },
  {
   "cell_type": "markdown",
   "metadata": {},
   "source": [
    "Assign the first `ts_rows` rows of `y` to `y_ts_train` and the remaining rows to `y_ts_test`."
   ]
  },
  {
   "cell_type": "code",
   "execution_count": 386,
   "metadata": {},
   "outputs": [],
   "source": [
    "# Your code here:\n"
   ]
  }
 ],
 "metadata": {
  "kernelspec": {
   "display_name": "Python 3 (ipykernel)",
   "language": "python",
   "name": "python3"
  },
  "language_info": {
   "codemirror_mode": {
    "name": "ipython",
    "version": 3
   },
   "file_extension": ".py",
   "mimetype": "text/x-python",
   "name": "python",
   "nbconvert_exporter": "python",
   "pygments_lexer": "ipython3",
   "version": "3.12.4"
  }
 },
 "nbformat": 4,
 "nbformat_minor": 4
}
